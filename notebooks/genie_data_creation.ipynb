{
 "cells": [
  {
   "cell_type": "code",
   "execution_count": null,
   "id": "a12f93d0-127e-4835-a4d8-caeaedd23ac8",
   "metadata": {},
   "outputs": [],
   "source": [
    "import copy\n",
    "import math\n",
    "import matplotlib.pyplot as plt\n",
    "import numpy as np\n",
    "import pandas as pd"
   ]
  },
  {
   "cell_type": "code",
   "execution_count": null,
   "id": "e161fde1-fd77-4318-b5dc-93be24db0751",
   "metadata": {},
   "outputs": [],
   "source": [
    "def generate_test_data(cell_lines, smiles):\n",
    "    \n",
    "    test_data = []\n",
    "    for c in cell_lines:\n",
    "        test_data.append((c, smiles, 0.5, 'GENIE'))\n",
    "    test_data_df = pd.DataFrame(test_data, columns=['cell_line', 'smiles', 'auc', 'dataset'])\n",
    "    \n",
    "    return test_data_df"
   ]
  },
  {
   "cell_type": "code",
   "execution_count": null,
   "id": "184938f0-5434-41e2-960a-549055fcbac5",
   "metadata": {},
   "outputs": [],
   "source": [
    "def generate_cell_mutation_file(all_genie_genes, other_genes, genie_data, all_mutation_data):\n",
    "    \n",
    "    filtered_mut_data = all_mutation_data.sort_values(by=['sampleId'], axis=0)\n",
    "    filtered_mut_data.drop(columns=['sampleId', 'Altered'], inplace=True)\n",
    "    \n",
    "    non_overlapping_genes_AnotB = [g for g in all_genie_genes if g not in other_genes] #A-B\n",
    "    \n",
    "    filtered_mut_data.drop(columns=non_overlapping_genes_AnotB, inplace=True)\n",
    "    \n",
    "    non_overlapping_genes_BnotA = [g for g in other_genes if g not in all_genie_genes] #B-A\n",
    "    \n",
    "    for gene in non_overlapping_genes_BnotA:\n",
    "        filtered_mut_data[gene] = 0\n",
    "        \n",
    "    filtered_mut_data.sort_index(inplace=True, axis=1)\n",
    "    \n",
    "    return filtered_mut_data"
   ]
  },
  {
   "cell_type": "code",
   "execution_count": null,
   "id": "3c1eaf76-9ebb-4677-98a7-db5baa19f986",
   "metadata": {},
   "outputs": [],
   "source": [
    "def generate_cn_file(all_genie_genes, other_genes, genie_data, cn_data):\n",
    "    \n",
    "    filtered_data = cn_data.sort_values(by=['SAMPLE_ID'], axis=0)\n",
    "    filtered_data.drop(columns=['STUDY_ID', 'SAMPLE_ID'], inplace=True)\n",
    "    \n",
    "    non_overlapping_genes_AnotB = [g for g in all_genie_genes if g not in other_genes] #A-B\n",
    "    \n",
    "    filtered_data.drop(columns=non_overlapping_genes_AnotB, inplace=True)\n",
    "    \n",
    "    non_overlapping_genes_BnotA = [g for g in other_genes if g not in all_genie_genes] #B-A\n",
    "    \n",
    "    for gene in non_overlapping_genes_BnotA:\n",
    "        filtered_data[gene] = 0\n",
    "        \n",
    "    filtered_data.sort_index(inplace=True, axis=1)\n",
    "    \n",
    "    cnd_data = filtered_data.copy(deep=True)\n",
    "    cnd_data[cnd_data > -1] = 0\n",
    "    cnd_data[cnd_data != 0] = 1\n",
    "    cnd_data = cnd_data.astype('int')\n",
    "    cnd_data.sort_index(inplace=True, axis=1)\n",
    "    \n",
    "    cna_data = filtered_data.copy(deep=True)\n",
    "    cna_data[cna_data < 1] = 0\n",
    "    cna_data[cna_data != 0] = 1\n",
    "    cna_data = cna_data.astype('int')\n",
    "    cna_data.sort_index(inplace=True, axis=1)\n",
    "    \n",
    "    return cnd_data, cna_data"
   ]
  },
  {
   "cell_type": "code",
   "execution_count": null,
   "id": "ce5d78d4-e118-44da-a8d9-ff6a7b83643e",
   "metadata": {},
   "outputs": [],
   "source": [
    "#Common data\n",
    "\n",
    "genie_data = pd.read_csv('../data/GENIE/brca_akt1_genie_2019_clinical_data.tsv', sep='\\t')\n",
    "genie_data.columns = genie_data.columns.str.replace(' ','_', regex=False)\n",
    "genie_data.columns = genie_data.columns.str.replace('/','_', regex=False)\n",
    "genie_data.columns = genie_data.columns.str.replace('(','', regex=False)\n",
    "genie_data.columns = genie_data.columns.str.replace(')','', regex=False)\n",
    "\n",
    "drugcell_genes = pd.read_csv('../data/training_files_av/gene2ind_ctg_av.txt', sep='\\t', header=None, names=['I', 'G'])['G']\n",
    "\n",
    "all_genie_genes = pd.read_csv('../data/GENIE/GENIE_gene_list.txt', header=None, names=['G'])['G']\n",
    "\n",
    "mutation_data = pd.read_csv('../data/GENIE/sample_matrix.txt', sep='\\t')\n",
    "mutation_data['sampleId'] = mutation_data['studyID:sampleId'].str.split(\":\", expand=True)[1]\n",
    "mutation_data.drop(columns =['studyID:sampleId'], inplace = True)\n",
    "\n",
    "cn_data = pd.read_csv('../data/GENIE/cna.txt', sep='\\t')\n",
    "cn_data.fillna(0, inplace=True)"
   ]
  },
  {
   "cell_type": "code",
   "execution_count": null,
   "id": "80c4eb80-f575-4be2-b1f5-fb9bdd53e04f",
   "metadata": {},
   "outputs": [],
   "source": [
    "filtered_mut_data = generate_cell_mutation_file(list(all_genie_genes), list(drugcell_genes), genie_data, mutation_data)\n",
    "filtered_mut_data.to_csv('../data/GENIE/cell2mutation.txt', header=False, index=False)"
   ]
  },
  {
   "cell_type": "code",
   "execution_count": null,
   "id": "0e3b4009-1a9e-4036-a81b-7ce8c5cd6031",
   "metadata": {},
   "outputs": [],
   "source": [
    "cnd_data, cna_data = generate_cn_file(list(all_genie_genes), list(drugcell_genes), genie_data, cn_data)\n",
    "cnd_data.to_csv('../data/GENIE/cell2cndeletion.txt', header=False, index=False)\n",
    "cna_data.to_csv('../data/GENIE/cell2cnamplification.txt', header=False, index=False)"
   ]
  },
  {
   "cell_type": "code",
   "execution_count": null,
   "id": "fb7f5e77-f021-4667-a401-451bf5c93948",
   "metadata": {},
   "outputs": [],
   "source": [
    "cell_lines = sorted(cn_data['SAMPLE_ID'])\n",
    "cell_line_df = pd.DataFrame(cell_lines, columns=['C'])\n",
    "cell_line_df.to_csv('../data/GENIE/cell2ind.txt', sep='\\t', header=False, index=True)"
   ]
  },
  {
   "cell_type": "code",
   "execution_count": null,
   "id": "ced07750-7295-45f5-941d-85b940860b75",
   "metadata": {},
   "outputs": [],
   "source": [
    "smiles_map = {'Palbociclib':\"CC1=C(C(=O)N(C2=NC(=NC=C12)NC3=NC=C(C=C3)N4CCNCC4)C5CCCC5)C(=O)C\"}\n",
    "\n",
    "for d in smiles_map.keys():\n",
    "    test_data = generate_test_data(cell_lines, smiles_map[d])\n",
    "    test_data.to_csv(\"../data/GENIE/test_\" + d + \".txt\", sep='\\t', header=False, index=False)"
   ]
  },
  {
   "cell_type": "code",
   "execution_count": null,
   "id": "568e0ca0-07f8-4451-9e57-935c3b0d373a",
   "metadata": {},
   "outputs": [],
   "source": []
  }
 ],
 "metadata": {
  "kernelspec": {
   "display_name": "Python 3 (ipykernel)",
   "language": "python",
   "name": "python3"
  },
  "language_info": {
   "codemirror_mode": {
    "name": "ipython",
    "version": 3
   },
   "file_extension": ".py",
   "mimetype": "text/x-python",
   "name": "python",
   "nbconvert_exporter": "python",
   "pygments_lexer": "ipython3",
   "version": "3.7.10"
  }
 },
 "nbformat": 4,
 "nbformat_minor": 5
}
