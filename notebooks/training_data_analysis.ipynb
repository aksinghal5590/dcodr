{
 "cells": [
  {
   "cell_type": "code",
   "execution_count": null,
   "metadata": {},
   "outputs": [],
   "source": [
    "import pandas as pd\n",
    "import numpy as np\n",
    "import math\n",
    "from matplotlib_venn import venn2, venn3\n",
    "import matplotlib.pyplot as plt\n",
    "from matplotlib.ticker import ScalarFormatter\n",
    "from scipy import stats\n",
    "import networkx as nx\n",
    "\n",
    "%matplotlib inline"
   ]
  },
  {
   "cell_type": "code",
   "execution_count": null,
   "metadata": {},
   "outputs": [],
   "source": [
    "plt.rcParams['svg.fonttype'] = 'none'\n",
    "\n",
    "SMALL_SIZE = 12\n",
    "MEDIUM_SIZE = 16\n",
    "BIGGER_SIZE = 22\n",
    "\n",
    "plt.rc('font', size=SMALL_SIZE)          # controls default text sizes\n",
    "plt.rc('axes', titlesize=SMALL_SIZE)     # fontsize of the axes title\n",
    "plt.rc('axes', labelsize=MEDIUM_SIZE)    # fontsize of the x and y labels\n",
    "plt.rc('xtick', labelsize=SMALL_SIZE)    # fontsize of the tick labels\n",
    "plt.rc('ytick', labelsize=SMALL_SIZE)    # fontsize of the tick labels\n",
    "plt.rc('legend', fontsize=SMALL_SIZE)    # legend fontsize\n",
    "plt.rc('figure', titlesize=BIGGER_SIZE)  # fontsize of the figure title"
   ]
  },
  {
   "cell_type": "code",
   "execution_count": null,
   "metadata": {},
   "outputs": [],
   "source": [
    "def create_bar_plot(data, x_title, y_title):\n",
    "    fig = plt.figure(figsize=(9, 8))\n",
    "    ax = fig.add_subplot(111)\n",
    "    ax.hist(x=data, bins='auto', alpha=0.7, rwidth=0.85)\n",
    "    ax.grid(False)\n",
    "    ax.set_xlabel(x_title)\n",
    "    ax.set_ylabel(y_title)\n",
    "    ax.set_xscale(\"log\")\n",
    "    #ax.set_xlim(1, 1000)\n",
    "    ax.xaxis.set_major_formatter(ScalarFormatter())\n",
    "    plt.show()\n",
    "    return fig"
   ]
  },
  {
   "cell_type": "code",
   "execution_count": null,
   "metadata": {},
   "outputs": [],
   "source": [
    "def load_ontology(file_name):\n",
    "    dG = nx.DiGraph()\n",
    "    file_handle = open(file_name)\n",
    "    for line in file_handle:\n",
    "        line = line.rstrip().split()\n",
    "        if line[2] == 'default':\n",
    "            dG.add_edge(line[0], line[1])\n",
    "    file_handle.close()    \n",
    "    return dG"
   ]
  },
  {
   "cell_type": "code",
   "execution_count": null,
   "metadata": {},
   "outputs": [],
   "source": [
    "def get_next_layer(dg, stack, term_visited):\n",
    "    new_stack = []\n",
    "    count = 0\n",
    "    while len(stack) > 0:\n",
    "        term = stack.pop()\n",
    "        if term in term_visited:\n",
    "            continue\n",
    "        term_visited[term] = 1\n",
    "        count += 1\n",
    "        for n in list(dg.neighbors(term)):\n",
    "            new_stack.append(n)\n",
    "    return new_stack, count, term_visited"
   ]
  },
  {
   "cell_type": "code",
   "execution_count": null,
   "metadata": {},
   "outputs": [],
   "source": [
    "ontology_file = '../data/training_files_av/ontology_ctg_av.txt'\n",
    "\n",
    "dg = load_ontology(ontology_file)\n",
    "\n",
    "root = [n for n in dg.nodes() if dg.in_degree(n) == 0][0]\n",
    "next_layer = list(dg.neighbors(root))\n",
    "term_visited = {}\n",
    "layers = []\n",
    "i = 0\n",
    "layers.append(1)\n",
    "term_visited[root] = 1\n",
    "while len(next_layer) > 0:\n",
    "    i += 1\n",
    "    layers.append(0)\n",
    "    next_layer, layers[i], term_visited = get_next_layer(dg, next_layer, term_visited)\n"
   ]
  },
  {
   "cell_type": "code",
   "execution_count": null,
   "metadata": {},
   "outputs": [],
   "source": [
    "layers"
   ]
  },
  {
   "cell_type": "code",
   "execution_count": null,
   "metadata": {},
   "outputs": [],
   "source": [
    "def get_cell_lines_by_tissue_type(tissue_type, cell_annot_df, cell_lines_df):\n",
    "    ccle_tissue_cell_lines = list(cell_annot_df.query('Site_Primary == @tissue_type')['CCLE_ID'])\n",
    "    return cell_lines_df.query('C in @ccle_tissue_cell_lines')"
   ]
  },
  {
   "cell_type": "code",
   "execution_count": null,
   "metadata": {},
   "outputs": [],
   "source": [
    "#train_df = pd.read_csv('../data/drugcell_all.txt', sep='\\t', header=None, names=['C', 'D', 'AUC'])\n",
    "\n",
    "drugs = pd.read_csv('../data/drug2ind_cg.txt', sep='\\t', header=None, names=['I', 'D'])['D']\n",
    "cell_lines_df = pd.read_csv('../data/cell2ind_cg.txt', sep='\\t', header=None, names=['I', 'C'])\n",
    "\n",
    "cell_mutation = np.loadtxt('../data/cell2mutation_cg.txt', delimiter=',')\n",
    "genes = set(pd.read_csv('../data/gene2ind_cg.txt', sep='\\t', header=None, names=['I', 'G'])['G'])"
   ]
  },
  {
   "cell_type": "code",
   "execution_count": null,
   "metadata": {},
   "outputs": [],
   "source": [
    "fig = plt.figure(figsize=(8,8))\n",
    "venn2([genes, genie_genes], ['DrugCell 2.0', 'GENIE'])\n",
    "plt.show()"
   ]
  },
  {
   "cell_type": "code",
   "execution_count": null,
   "metadata": {},
   "outputs": [],
   "source": [
    "# No. of mutations in cell-lines\n",
    "\n",
    "mutation_count = np.count_nonzero(cell_mutation == 1, axis=1)\n",
    "print('Median per cell line:', np.median(mutation_count))\n",
    "print('Mean per cell line:', np.mean(mutation_count))\n",
    "\n",
    "fig = create_bar_plot(mutation_count, 'Number of mutations', 'Number of cell lines')"
   ]
  }
 ],
 "metadata": {
  "kernelspec": {
   "display_name": "Python 3 (ipykernel)",
   "language": "python",
   "name": "python3"
  },
  "language_info": {
   "codemirror_mode": {
    "name": "ipython",
    "version": 3
   },
   "file_extension": ".py",
   "mimetype": "text/x-python",
   "name": "python",
   "nbconvert_exporter": "python",
   "pygments_lexer": "ipython3",
   "version": "3.7.10"
  }
 },
 "nbformat": 4,
 "nbformat_minor": 4
}
