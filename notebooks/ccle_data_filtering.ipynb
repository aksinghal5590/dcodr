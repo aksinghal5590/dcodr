{
 "cells": [
  {
   "cell_type": "code",
   "execution_count": null,
   "metadata": {},
   "outputs": [],
   "source": [
    "import random as rd\n",
    "import pandas as pd\n",
    "import numpy as np\n",
    "from collections import Counter"
   ]
  },
  {
   "cell_type": "code",
   "execution_count": null,
   "metadata": {},
   "outputs": [],
   "source": [
    "#Create genotype (cell2mutation) data\n",
    "\n",
    "def create_genotype_data(gene_list, cell_list, cell_gene_map):\n",
    "\n",
    "    cell_gene_df = pd.DataFrame(columns=gene_list)\n",
    "\n",
    "    i = 0\n",
    "    for cell in cell_list:\n",
    "        ko_list = []\n",
    "        mut_list = cell_gene_map[cell]\n",
    "        for gene in gene_list:\n",
    "            if gene in mut_list:\n",
    "                ko_list.append(1)\n",
    "            else:\n",
    "                ko_list.append(0)\n",
    "        cell_gene_df.loc[i] = ko_list\n",
    "        i += 1\n",
    "        \n",
    "    return cell_gene_df"
   ]
  },
  {
   "cell_type": "code",
   "execution_count": null,
   "metadata": {},
   "outputs": [],
   "source": [
    "# creating clinical trial gene list\n",
    "\n",
    "def create_clinical_trial_gene_list():\n",
    "    ctDNA_genes = list(ctDNA_genes_df['G'])\n",
    "    print(len(ctDNA_genes))\n",
    "\n",
    "    fm_tempus_genes = list(gene_panels.query('`FM One` == 1 or `Tempus xT` == 1')['Gene'])\n",
    "    print(len(fm_tempus_genes))\n",
    "\n",
    "    genie_oncokb_genes = list(genie_oncokb_genes_df['G'])\n",
    "    print(len(genie_oncokb_genes))\n",
    "\n",
    "    clinical_trial_genes = []\n",
    "    clinical_trial_genes.extend(ctDNA_genes)\n",
    "    clinical_trial_genes.extend(fm_tempus_genes)\n",
    "    clinical_trial_genes.extend(genie_oncokb_genes)\n",
    "    clinical_trial_genes = sorted(set(clinical_trial_genes))\n",
    "    print(len(clinical_trial_genes))\n",
    "\n",
    "    return sorted(set(clinical_trial_genes) & set(nest_gene_list))"
   ]
  },
  {
   "cell_type": "code",
   "execution_count": null,
   "metadata": {},
   "outputs": [],
   "source": [
    "ccle_mutations = pd.read_csv(\"../data/CCLE/CCLE_mutations.csv\")\n",
    "\n",
    "ccle_cn = pd.read_csv(\"../data/CCLE/CCLE_gene_cn.csv\")\n",
    "ccle_cn.rename(columns={'Unnamed: 0':'DepMap_ID'}, inplace=True)\n",
    "\n",
    "ccle_sample_info = pd.read_csv(\"../data/CCLE/sample_info.csv\")\n",
    "\n",
    "cell_index = pd.read_csv(\"../data/training_files_av/cell2ind_av.txt\", sep=\"\\t\", header=None, names=['I', 'C'])\n",
    "    \n",
    "gene_list_ctg = list(pd.read_csv(\"../data/training_files_av/gene2ind_ctg_av.txt\", sep=\"\\t\", header=None, names=['I', 'G'])['G'])"
   ]
  },
  {
   "cell_type": "code",
   "execution_count": null,
   "metadata": {},
   "outputs": [],
   "source": [
    "#Remove cell lines from DrugCell data not present in CCLE\n",
    "\n",
    "cell_id_map = dict()\n",
    "cell_list = list(cell_index['C'])\n",
    "\n",
    "for _,row in ccle_sample_info.iterrows():\n",
    "    if row['CCLE_Name'] in cell_list:\n",
    "        cell_id_map[row['CCLE_Name']] = row['DepMap_ID']\n",
    "\n",
    "cell_list = sorted(list(cell_id_map.keys()))"
   ]
  },
  {
   "cell_type": "code",
   "execution_count": null,
   "metadata": {},
   "outputs": [],
   "source": [
    "#Get all valid cell-gene_list pairs in form of dict {cell : genes[]}\n",
    "\n",
    "#For most mutated and random lists change the query to have nest_gene_list\n",
    "\n",
    "mut_list = ['Missense_Mutation', 'Nonsense_Mutation', 'Frame_Shift_Del', 'Frame_Shift_Ins', \n",
    "            'Splice_Site', 'Splice_Region', 'In_Frame_Del', 'In_Frame_Ins', 'Nonstop_Mutation']\n",
    "\n",
    "filtered_ccle_mutations_df = ccle_mutations.query('DepMap_ID in @cell_id_map.values() and Variant_Classification in @mut_list and Hugo_Symbol in @gene_list_ctg')\n",
    "\n",
    "cell_gene_map = dict()\n",
    "for cell in cell_list:\n",
    "    depmap_id = cell_id_map[cell]\n",
    "    cell_gene_map[cell] = list(filtered_ccle_mutations_df.query('DepMap_ID == @depmap_id')['Hugo_Symbol'])"
   ]
  },
  {
   "cell_type": "code",
   "execution_count": null,
   "metadata": {},
   "outputs": [],
   "source": [
    "cn_filtered_columns = [s for s in ccle_cn.columns if s.split(\" \")[0] in gene_list_ctg]\n",
    "cn_filtered_columns.append('DepMap_ID')"
   ]
  },
  {
   "cell_type": "code",
   "execution_count": null,
   "metadata": {},
   "outputs": [],
   "source": [
    "mut_cell_lines = set(filtered_ccle_mutations_df['DepMap_ID'])\n",
    "filtered_cn_df = ccle_cn.query('DepMap_ID in @mut_cell_lines')[cn_filtered_columns]"
   ]
  },
  {
   "cell_type": "code",
   "execution_count": null,
   "metadata": {},
   "outputs": [],
   "source": [
    "col_name = dict()\n",
    "for c in filtered_cn_df.columns:\n",
    "    if \" \" in c:\n",
    "        c1 = c.split(\" \")[0]\n",
    "        col_name[c] = c1\n",
    "filtered_cn_df.rename(columns=col_name, inplace=True)"
   ]
  },
  {
   "cell_type": "code",
   "execution_count": null,
   "metadata": {},
   "outputs": [],
   "source": [
    "cn_genes = col_name.values()\n",
    "\n",
    "new_row = dict()\n",
    "new_row['DepMap_ID'] = ''\n",
    "for g in cn_genes:\n",
    "    new_row[g] = 0\n",
    "    \n",
    "new_rows_list = []\n",
    "extra_cl = [c for c in mut_cell_lines if c not in set(filtered_cn_df['DepMap_ID'])]\n",
    "for c in extra_cl:\n",
    "    new_row['DepMap_ID'] = c\n",
    "    new_rows_list.append(pd.DataFrame(new_row, index=[0]))\n",
    "        \n",
    "new_rows_list.append(filtered_cn_df)\n",
    "filtered_cn_df = pd.concat(new_rows_list, axis=0, ignore_index=True)"
   ]
  },
  {
   "cell_type": "code",
   "execution_count": null,
   "metadata": {},
   "outputs": [],
   "source": [
    "for g in gene_list_ctg:\n",
    "    if g not in cn_genes:\n",
    "        filtered_cn_df[g] = 0"
   ]
  },
  {
   "cell_type": "code",
   "execution_count": null,
   "metadata": {},
   "outputs": [],
   "source": [
    "for cell_id, depmap_id in cell_id_map.items():\n",
    "    filtered_cn_df.replace(depmap_id, cell_id, inplace=True)"
   ]
  },
  {
   "cell_type": "code",
   "execution_count": null,
   "metadata": {},
   "outputs": [],
   "source": [
    "filtered_cn_df.sort_values(by='DepMap_ID', inplace=True, ignore_index=True)\n",
    "filtered_cn_df"
   ]
  },
  {
   "cell_type": "code",
   "execution_count": null,
   "metadata": {},
   "outputs": [],
   "source": [
    "cna_df = filtered_cn_df[gene_list_ctg].copy(deep=True)\n",
    "cnd_df = filtered_cn_df[gene_list_ctg].copy(deep=True)\n",
    "\n",
    "ploidy = 2\n",
    "del_th = np.log2(0.87/ploidy + 1)\n",
    "amp_th = np.log2(3.36/ploidy + 1)\n",
    "\n",
    "cnd_df[cnd_df > del_th] = 0\n",
    "cnd_df[cnd_df != 0] = 1\n",
    "cnd_df = cnd_df.astype('int')\n",
    "cnd_df = cnd_df.reindex(sorted(cnd_df.columns), axis=1)\n",
    "\n",
    "cna_df[cna_df >= amp_th] = 1\n",
    "cna_df[cna_df != 1] = 0\n",
    "cna_df = cna_df.astype('int')\n",
    "cna_df = cna_df.reindex(sorted(cna_df.columns), axis=1)"
   ]
  },
  {
   "cell_type": "code",
   "execution_count": null,
   "metadata": {},
   "outputs": [],
   "source": [
    "# Clinical trial genes\n",
    "\n",
    "filtered_gene_list = gene_list_ctg\n",
    "\n",
    "gene2ind_file = \"../data/training_files_av/gene2ind_ctg_av.txt\"\n",
    "cell2ind_file = \"../data/training_files_av/cell2ind_av.txt\"\n",
    "cell2mut_file = \"../data/training_files_av/cell2mutation_ctg_av.txt\"\n",
    "cell2cnd_file = \"../data/training_files_av/cell2cndeletion_ctg_av.txt\"\n",
    "cell2cna_file = \"../data/training_files_av/cell2cnamplification_ctg_av.txt\""
   ]
  },
  {
   "cell_type": "code",
   "execution_count": null,
   "metadata": {},
   "outputs": [],
   "source": [
    "#Most frequently mutated genes\n",
    "\n",
    "n = len(gene_list_cg)\n",
    "print(n)\n",
    "\n",
    "gene_mutation_freq = Counter(list(filtered_ccle_map_df['Hugo_Symbol']))\n",
    "filtered_gene_list = sorted(tup[0] for tup in gene_mutation_freq.most_common(n))\n",
    "\n",
    "gene2ind_file = \"../data/gene2ind_mf_\" + str(n) + \".txt\"\n",
    "cell2mut_file = \"../data/cell2mutation_mf_\" + str(n) + \".txt\""
   ]
  },
  {
   "cell_type": "code",
   "execution_count": null,
   "metadata": {},
   "outputs": [],
   "source": [
    "#Random genes\n",
    "\n",
    "n = len(gene_list_cg)\n",
    "print(n)\n",
    "\n",
    "filtered_gene_list = sorted(rd.sample(list(filtered_ccle_map_df['Hugo_Symbol'].unique()), n))\n",
    "\n",
    "gene2ind_file = \"../data/gene2ind_random_\" + str(n) + \"_e.txt\"\n",
    "cell2mut_file = \"../data/cell2mutation_random_\" + str(n) + \"_e.txt\""
   ]
  },
  {
   "cell_type": "code",
   "execution_count": null,
   "metadata": {},
   "outputs": [],
   "source": [
    "#Saving both gene2ind and cell2mut files\n",
    "\n",
    "gene_index = pd.DataFrame(filtered_gene_list, columns=(['G']))\n",
    "#gene_index.to_csv(gene2ind_file, sep='\\t', header=False, index=True)\n",
    "\n",
    "cell_index = pd.DataFrame(cell_list, columns=(['C']))\n",
    "cell_gene_df = create_genotype_data(filtered_gene_list, cell_list, cell_gene_map)\n",
    "\n",
    "empty_rows = []\n",
    "for i, row in enumerate(cell_gene_df.values):\n",
    "    if np.all(row == row[0]):\n",
    "        empty_rows.append(i)\n",
    "\n",
    "cell_index = cell_index.drop(cell_index.index[empty_rows]).reset_index()['C']\n",
    "#cell_index.to_csv(cell2ind_file, sep='\\t', header=False, index=True)\n",
    "\n",
    "cell_gene_df = cell_gene_df.drop(cell_gene_df.index[empty_rows])\n",
    "cell_gene_df.to_csv(cell2mut_file, header=False, index=False)"
   ]
  },
  {
   "cell_type": "code",
   "execution_count": null,
   "metadata": {},
   "outputs": [],
   "source": [
    "cnd_df.to_csv(cell2cnd_file, header=False, index=False)\n",
    "\n",
    "cna_df.to_csv(cell2cna_file, header=False, index=False)"
   ]
  },
  {
   "cell_type": "code",
   "execution_count": null,
   "metadata": {},
   "outputs": [],
   "source": []
  }
 ],
 "metadata": {
  "kernelspec": {
   "display_name": "Python 3 (ipykernel)",
   "language": "python",
   "name": "python3"
  },
  "language_info": {
   "codemirror_mode": {
    "name": "ipython",
    "version": 3
   },
   "file_extension": ".py",
   "mimetype": "text/x-python",
   "name": "python",
   "nbconvert_exporter": "python",
   "pygments_lexer": "ipython3",
   "version": "3.7.10"
  }
 },
 "nbformat": 4,
 "nbformat_minor": 4
}
