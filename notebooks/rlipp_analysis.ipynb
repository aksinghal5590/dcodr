{
 "cells": [
  {
   "cell_type": "code",
   "execution_count": null,
   "metadata": {},
   "outputs": [],
   "source": [
    "import pandas as pd\n",
    "import numpy as np\n",
    "import matplotlib.pyplot as plt\n",
    "from statsmodels.stats.multitest import multipletests\n",
    "from scipy import stats\n",
    "import math"
   ]
  },
  {
   "cell_type": "code",
   "execution_count": null,
   "metadata": {},
   "outputs": [],
   "source": [
    "def get_top_systems(drug_name, nest_map, rlipp_df):\n",
    "    \n",
    "    subsys_df = rlipp_df.sort_values(by='P_rho', ascending=False, ignore_index=True)\n",
    "    subsys_df['Rank'] = 0\n",
    "    subsys_df['Name'] = ''\n",
    "    subsys_df = subsys_df[['Rank', 'Term', 'Name', 'P_rho', 'P_pval', 'C_rho', 'C_pval', 'RLIPP']]\n",
    "    for i, row in subsys_df.iterrows():\n",
    "        subsys_df.at[i, 'Rank'] = i+1\n",
    "        subsys_df.at[i, 'Name'] = nest_map[row['Term']]\n",
    "        \n",
    "    return subsys_df"
   ]
  },
  {
   "cell_type": "code",
   "execution_count": null,
   "metadata": {},
   "outputs": [],
   "source": [
    "def bh(p_vals, alpha):\n",
    "    res = multipletests(p_vals, alpha=alpha, method='fdr_bh')\n",
    "    return res[1]\n",
    "\n",
    "bh.__name__ = 'BH'"
   ]
  },
  {
   "cell_type": "code",
   "execution_count": null,
   "metadata": {},
   "outputs": [],
   "source": [
    "def bonferroni(p_vals):\n",
    "    res = multipletests(p_vals, alpha=0.05, method='bonferroni')\n",
    "    return res[1]\n",
    "\n",
    "bonferroni.__name__ = 'Bonferroni'"
   ]
  },
  {
   "cell_type": "code",
   "execution_count": null,
   "metadata": {},
   "outputs": [],
   "source": [
    "def system_significance(ont, dataset, drug, zscore_method):\n",
    "    \n",
    "    rlipp_dict = dict()\n",
    "    for i in range(1, 101):\n",
    "        rlipp_file_list = []\n",
    "        for j in range(1, 6):\n",
    "            nf = i + 100*(j-1)\n",
    "            modeldir = '../models/mbb/model_' + ont + '_' + dataset + '_' + drug + '_' + zscore_method + '_' + str(nf)\n",
    "            rlipp_df = pd.read_csv(modeldir + '/rlipp.out', sep='\\t')[['Term', 'P_rho']]\n",
    "            rlipp_file_list.append(rlipp_df)\n",
    "        agg_df = pd.concat(rlipp_file_list, ignore_index=True)\n",
    "        agg_rlipp_df = pd.DataFrame(agg_df.groupby(['Term']).mean()).reset_index()\n",
    "        for _, row in agg_rlipp_df.iterrows():\n",
    "            term = row['Term']\n",
    "            if term not in rlipp_dict:\n",
    "                rlipp_dict[term] = []\n",
    "            rlipp_dict[term].append(row['P_rho'])\n",
    "    \n",
    "    main_rlipp_df = pd.read_csv('../models/rlipp/' + drug + '.txt', sep='\\t')\n",
    "    main_rlipp_df['t_test'] = 0.0\n",
    "    main_rlipp_df['Perm_test'] = 0.0\n",
    "    \n",
    "    for i, row in main_rlipp_df.iterrows():\n",
    "        \n",
    "        true_prho = row['P_rho']\n",
    "        term = row['Term']\n",
    "        prho_list = sorted(rlipp_dict[term], reverse=True)\n",
    "            \n",
    "        result = stats.ttest_1samp(prho_list, true_prho, alternative='less', nan_policy='raise')\n",
    "        pval = result.pvalue\n",
    "        if math.isnan(pval):\n",
    "            pval = 1.0\n",
    "        main_rlipp_df.at[i, 't_test'] = pval\n",
    "        \n",
    "        for j, prho in enumerate(prho_list):\n",
    "            if true_prho <= prho:\n",
    "                continue\n",
    "            break\n",
    "        main_rlipp_df.at[i, 'Perm_test'] = j/100\n",
    "        \n",
    "    main_rlipp_df['t_test'] = bh(main_rlipp_df['t_test'])\n",
    "    main_rlipp_df['Perm_test'] = bh(main_rlipp_df['Perm_test'])\n",
    "        \n",
    "    return rlipp_dict, main_rlipp_df"
   ]
  },
  {
   "cell_type": "code",
   "execution_count": null,
   "metadata": {},
   "outputs": [],
   "source": [
    "def system_significance_2(ont, dataset, drug, zscore_method, alpha):\n",
    "    \n",
    "    mbb_rlipp_dict = dict()\n",
    "    vnn_rlipp_dict = dict()\n",
    "    for i in range(1, 6):\n",
    "        for j in range(1, 101):\n",
    "            nf = j + 100*(i-1)\n",
    "            modeldir = '../models/mbb/model_' + ont + '_' + dataset + '_' + drug + '_' + zscore_method + '_' + str(nf)\n",
    "            rlipp_df = pd.read_csv(modeldir + '/rlipp.out', sep='\\t')[['Term', 'P_rho']]\n",
    "            for _, row in rlipp_df.iterrows():\n",
    "                term = row['Term']\n",
    "                if term not in mbb_rlipp_dict:\n",
    "                    mbb_rlipp_dict[term] = []\n",
    "                mbb_rlipp_dict[term].append(row['P_rho'])\n",
    "                \n",
    "        modeldir = '../models/model_' + ont + '_' + dataset + '_' + drug + '_' + zscore_method + '_' + str(i)\n",
    "        rlipp_df = pd.read_csv(modeldir + '/rlipp.out', sep='\\t')[['Term', 'P_rho']]\n",
    "        for _, row in rlipp_df.iterrows():\n",
    "            term = row['Term']\n",
    "            if term not in vnn_rlipp_dict:\n",
    "                vnn_rlipp_dict[term] = []\n",
    "            vnn_rlipp_dict[term].append(row['P_rho'])\n",
    "    \n",
    "    main_rlipp_df = pd.read_csv('../models/rlipp/' + drug + '.txt', sep='\\t')\n",
    "    main_rlipp_df['t_test'] = 0.0\n",
    "    \n",
    "    for i, row in main_rlipp_df.iterrows():\n",
    "        term = row['Term']\n",
    "        result = stats.ttest_ind(mbb_rlipp_dict[term], vnn_rlipp_dict[term], alternative='less')\n",
    "        pval = result.pvalue\n",
    "        if math.isnan(pval):\n",
    "            pval = 1.0\n",
    "        main_rlipp_df.at[i, 't_test'] = pval\n",
    "        \n",
    "    main_rlipp_df['t_test'] = bh(main_rlipp_df['t_test'], alpha)\n",
    "        \n",
    "    return mbb_rlipp_dict, main_rlipp_df"
   ]
  },
  {
   "cell_type": "code",
   "execution_count": null,
   "metadata": {},
   "outputs": [],
   "source": [
    "def get_shuffled_rlipp():\n",
    "    rlipp_dict = dict()\n",
    "    for i in range(1, 1001):\n",
    "        rlipp_file_list = []\n",
    "        for j in range(1, 6):\n",
    "            modeldir = '../models/shuffled_input/' + str(j) + '_' + str(i)\n",
    "            rlipp_df = pd.read_csv(modeldir + '/rlipp.out', sep='\\t')[['Term', 'P_rho']]\n",
    "            rlipp_file_list.append(rlipp_df)\n",
    "        agg_df = pd.concat(rlipp_file_list, ignore_index=True)\n",
    "        agg_rlipp_df = pd.DataFrame(agg_df.groupby(['Term']).mean()).reset_index()\n",
    "        for _, row in agg_rlipp_df.iterrows():\n",
    "            term = row['Term']\n",
    "            if term not in rlipp_dict:\n",
    "                rlipp_dict[term] = []\n",
    "            rlipp_dict[term].append(row['P_rho'])\n",
    "            \n",
    "    return rlipp_dict"
   ]
  },
  {
   "cell_type": "code",
   "execution_count": null,
   "metadata": {},
   "outputs": [],
   "source": [
    "def system_significance_shuffled_input(rlipp_dict, drug, alpha):\n",
    "    \n",
    "    main_rlipp_df = pd.read_csv('../models/rlipp/' + drug + '.txt', sep='\\t')\n",
    "    main_rlipp_df['t_test'] = 0.0\n",
    "    main_rlipp_df['Perm_test'] = 0.0\n",
    "    for i, row in main_rlipp_df.iterrows():\n",
    "        \n",
    "        term = row['Term']\n",
    "        true_prho = 0.5 #row['P_rho']\n",
    "        prho_list = sorted(rlipp_dict[term], reverse=True)\n",
    "        \n",
    "        result = stats.ttest_1samp(prho_list, true_prho, alternative='less')\n",
    "        main_rlipp_df.at[i, 't_test'] = result.pvalue\n",
    "        \n",
    "        for j, prho in enumerate(prho_list):\n",
    "            if true_prho <= prho + 1.0/1000:\n",
    "                continue\n",
    "            break\n",
    "        main_rlipp_df.at[i, 'Perm_test'] = j/1000\n",
    "        \n",
    "    main_rlipp_df['t_test'] = bh(main_rlipp_df['t_test'], alpha)\n",
    "    main_rlipp_df['Perm_test'] = bh(main_rlipp_df['Perm_test'], alpha)\n",
    "        \n",
    "    return main_rlipp_df"
   ]
  },
  {
   "cell_type": "code",
   "execution_count": null,
   "metadata": {},
   "outputs": [],
   "source": [
    "nest_df = pd.read_csv('../data/NeST/NeST_node.csv', sep=',')\n",
    "nest_map = {row['name'].replace('.', '-'):row['Annotation'] for i, row in nest_df.iterrows()}"
   ]
  },
  {
   "cell_type": "code",
   "execution_count": null,
   "metadata": {},
   "outputs": [],
   "source": [
    "ont = 'ctg'\n",
    "dataset = 'av'\n",
    "zscore_method = 'auc'\n",
    "folds = 5\n",
    "\n",
    "drugs = list(pd.read_csv('../data/training_files_av/drugname_av.txt', header=None, names=['D'])['D'])\n",
    "drugs = ['Palbociclib']\n",
    "drug = 'Palbociclib'"
   ]
  },
  {
   "cell_type": "code",
   "execution_count": null,
   "metadata": {},
   "outputs": [],
   "source": [
    "for drug in drugs:\n",
    "    for i in range(1, folds+1):\n",
    "        modeldir = '../models/model_' + ont + '_' + dataset + '_' + drug + '_' + zscore_method + '_' + str(i)\n",
    "        rlipp_df = pd.read_csv(modeldir + '/rlipp.out', sep='\\t')\n",
    "        subsys_df = get_top_systems(drug, nest_map, rlipp_df)\n",
    "        subsys_df.to_csv(modeldir + '/subsystem_ranks.txt', sep='\\t', index=False)"
   ]
  },
  {
   "cell_type": "code",
   "execution_count": null,
   "metadata": {},
   "outputs": [],
   "source": [
    "#Merging p_rho\n",
    "\n",
    "for drug in drugs:\n",
    "    agg_terms = []\n",
    "    for i in range(1, folds+1):\n",
    "        modeldir = '../models/model_' + ont + '_' + dataset + '_' + drug + '_' + zscore_method + '_' + str(i)\n",
    "        subsys_df = pd.read_csv(modeldir + '/subsystem_ranks.txt', sep='\\t')[['Term', 'Name', 'P_rho', 'C_rho', 'RLIPP']]\n",
    "        agg_terms.append(subsys_df)\n",
    "    \n",
    "    agg_df = pd.concat(agg_terms, ignore_index=True)\n",
    "    agg_rlipp_df = pd.DataFrame(agg_df.groupby(['Term', 'Name']).mean()).reset_index()\n",
    "    agg_rlipp_df = agg_rlipp_df.sort_values(by='P_rho', ascending=False)\n",
    "    agg_rlipp_df.to_csv('../models/rlipp/' + drug + '.txt', sep='\\t', float_format='%.2e', index=False)"
   ]
  },
  {
   "cell_type": "code",
   "execution_count": null,
   "metadata": {},
   "outputs": [],
   "source": [
    "#Merging gene rho with p_values\n",
    "\n",
    "for drug in ['Palbociclib']:\n",
    "    agg_terms = []\n",
    "    for i in range(1, folds+1):\n",
    "        modeldir = '../models/model_' + ont + '_' + dataset + '_' + drug + '_' + zscore_method + '_' + str(i)\n",
    "        subsys_df = pd.read_csv(modeldir + '/gene_rho.out', sep='\\t')[['Gene', 'Rho', 'P_val']]\n",
    "        agg_terms.append(subsys_df)\n",
    "    \n",
    "    agg_df = pd.concat(agg_terms, ignore_index=True)\n",
    "    agg_rlipp_df = pd.DataFrame(agg_df.groupby(['Gene']).agg({'Rho':'mean',\n",
    "                                                              'P_val': [bh, bonferroni, np.max, np.prod]\n",
    "                                                             })).reset_index()\n",
    "    agg_rlipp_df.columns = ['_'.join(col).strip('_') for col in agg_rlipp_df.columns.values]\n",
    "    agg_rlipp_df = agg_rlipp_df.sort_values(by='Rho_mean', ascending=False)\n",
    "    agg_rlipp_df.to_csv('../models/rlipp/' + drug + '_gene_rho.txt', sep='\\t', float_format='%.4f', index=False)"
   ]
  },
  {
   "cell_type": "code",
   "execution_count": null,
   "metadata": {},
   "outputs": [],
   "source": [
    "#Merging p_rho with p_values\n",
    "\n",
    "for drug in drugs:\n",
    "    agg_terms = []\n",
    "    for i in range(1, folds+1):\n",
    "        modeldir = '../models/model_' + ont + '_' + dataset + '_' + drug + '_' + zscore_method + '_' + str(i)\n",
    "        subsys_df = pd.read_csv(modeldir + '/subsystem_ranks.txt', sep='\\t')[['Term', 'Name', 'P_rho', 'P_pval']]\n",
    "        agg_terms.append(subsys_df)\n",
    "    \n",
    "    agg_df = pd.concat(agg_terms, ignore_index=True)\n",
    "    agg_rlipp_df = pd.DataFrame(agg_df.groupby(['Term', 'Name']).agg({'P_rho':'mean', \n",
    "                                                                      'P_pval': [bh, bonferroni, np.max, np.prod]\n",
    "                                                                     })).reset_index()\n",
    "    agg_rlipp_df.columns = ['_'.join(col).strip('_') for col in agg_rlipp_df.columns.values]\n",
    "    agg_rlipp_df = agg_rlipp_df.sort_values(by='P_rho_mean', ascending=False)\n",
    "    agg_rlipp_df.to_csv('../models/rlipp/' + drug + '_all_pval.txt', sep='\\t', float_format='%.4f', index=False)"
   ]
  },
  {
   "cell_type": "code",
   "execution_count": null,
   "metadata": {},
   "outputs": [],
   "source": [
    "rlipp_dict, rlipp_df = system_significance_2(ont, dataset, drug, zscore_method, 0.05)"
   ]
  },
  {
   "cell_type": "code",
   "execution_count": null,
   "metadata": {},
   "outputs": [],
   "source": [
    "rlipp_df.to_csv('../models/rlipp/' + drug + '_system_significance_bh_0.3.txt', sep='\\t', float_format='%.2e', index=False)"
   ]
  },
  {
   "cell_type": "code",
   "execution_count": null,
   "metadata": {},
   "outputs": [],
   "source": [
    "si_rlipp_dict = get_shuffled_rlipp()"
   ]
  },
  {
   "cell_type": "code",
   "execution_count": null,
   "metadata": {},
   "outputs": [],
   "source": [
    "si_rlipp_df = system_significance_shuffled_input(si_rlipp_dict, drug, 0.05)"
   ]
  },
  {
   "cell_type": "code",
   "execution_count": null,
   "metadata": {},
   "outputs": [],
   "source": [
    "si_rlipp_df.to_csv('../models/rlipp/' + drug + '_system_significance_shuffled_input_0.5.txt', sep='\\t', float_format='%.2e', index=False)"
   ]
  },
  {
   "cell_type": "code",
   "execution_count": null,
   "metadata": {},
   "outputs": [],
   "source": [
    "si_rlipp_df.query(\"Term == 'NEST:50'\")"
   ]
  },
  {
   "cell_type": "code",
   "execution_count": null,
   "metadata": {},
   "outputs": [],
   "source": []
  }
 ],
 "metadata": {
  "kernelspec": {
   "display_name": "Python 3 (ipykernel)",
   "language": "python",
   "name": "python3"
  },
  "language_info": {
   "codemirror_mode": {
    "name": "ipython",
    "version": 3
   },
   "file_extension": ".py",
   "mimetype": "text/x-python",
   "name": "python",
   "nbconvert_exporter": "python",
   "pygments_lexer": "ipython3",
   "version": "3.7.10"
  }
 },
 "nbformat": 4,
 "nbformat_minor": 4
}
