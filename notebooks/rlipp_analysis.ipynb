{
 "cells": [
  {
   "cell_type": "code",
   "execution_count": null,
   "metadata": {},
   "outputs": [],
   "source": [
    "import pandas as pd\n",
    "import numpy as np\n",
    "import matplotlib.pyplot as plt"
   ]
  },
  {
   "cell_type": "code",
   "execution_count": null,
   "metadata": {},
   "outputs": [],
   "source": [
    "def get_top_systems(drug_name, nest_map):\n",
    "    rlipp_map = {}\n",
    "    p_map = {}\n",
    "    c_map = {}\n",
    "    for i, row in rlipp_df.iterrows():\n",
    "        rlipp_map[row['Term']] = (row['RLIPP'])\n",
    "        p_map[row['Term']] = (row['P_rho'])\n",
    "        c_map[row['Term']] = (row['C_rho'])\n",
    "    p_map = {term:p_rho for term,p_rho in sorted(p_map.items(), key=lambda item:item[1], reverse=True)}\n",
    "\n",
    "    subsys_df = pd.DataFrame()\n",
    "    for i, t in enumerate(p_map):\n",
    "        subsys_df = subsys_df.append({'Rank':(i+1), 'Term':t, 'Name':nest_map[t], 'P_rho':p_map[t], 'C_rho':c_map[t], 'RLIPP':rlipp_map[t]}, ignore_index = True)\n",
    "        \n",
    "    return subsys_df"
   ]
  },
  {
   "cell_type": "code",
   "execution_count": null,
   "metadata": {},
   "outputs": [],
   "source": [
    "nest_df = pd.read_csv('../data/NeST/NeST_node.csv', sep=',')\n",
    "nest_map = {row['name'].replace('.', '-'):row['Annotation'] for i, row in nest_df.iterrows()}"
   ]
  },
  {
   "cell_type": "code",
   "execution_count": null,
   "metadata": {},
   "outputs": [],
   "source": [
    "ont = 'ctg'\n",
    "dataset = 'av'\n",
    "zscore_method = 'auc'\n",
    "folds = 5\n",
    "\n",
    "drugs = list(pd.read_csv('../data/training_files_av/drugname_av.txt', header=None, names=['D'])['D'])\n",
    "drugs = ['Palbociclib']\n",
    "\n",
    "for drug in drugs:\n",
    "    for i in range(1, folds+1):\n",
    "        modeldir = '../models/model_' + ont + '_' + dataset + '_' + drug + '_' + zscore_method + '_' + str(i)\n",
    "        rlipp_df = pd.read_csv(modeldir + '/rlipp_genie_428.out', sep='\\t')\n",
    "        subsys_df = get_top_systems(drug, nest_map)\n",
    "        subsys_df.to_csv(modeldir + '/subsystem_ranks_genie_428.txt', sep='\\t', float_format='%.4f', index=False)"
   ]
  },
  {
   "cell_type": "code",
   "execution_count": null,
   "metadata": {},
   "outputs": [],
   "source": [
    "for drug in drugs:\n",
    "    agg_terms = []\n",
    "    for i in range(1, folds+1):\n",
    "        modeldir = '../models/model_' + ont + '_' + dataset + '_' + drug + '_' + zscore_method + '_' + str(i)\n",
    "        subsys_df = pd.read_csv(modeldir + '/subsystem_ranks_genie_428.txt', sep='\\t')[['Term', 'Name', 'P_rho', 'C_rho', 'RLIPP']]\n",
    "        agg_terms.append(subsys_df)\n",
    "    \n",
    "    agg_df = pd.concat(agg_terms, ignore_index=True)\n",
    "    agg_rlipp_df = pd.DataFrame(agg_df.groupby(['Term', 'Name']).mean()).reset_index()\n",
    "    agg_rlipp_df = agg_rlipp_df.sort_values(by='P_rho', ascending=False)\n",
    "    agg_rlipp_df.to_csv('../models/rlipp/' + drug + '_genie_428.txt', sep='\\t', float_format='%.4f', index=False)"
   ]
  },
  {
   "cell_type": "code",
   "execution_count": null,
   "metadata": {},
   "outputs": [],
   "source": []
  }
 ],
 "metadata": {
  "kernelspec": {
   "display_name": "Python 3 (ipykernel)",
   "language": "python",
   "name": "python3"
  },
  "language_info": {
   "codemirror_mode": {
    "name": "ipython",
    "version": 3
   },
   "file_extension": ".py",
   "mimetype": "text/x-python",
   "name": "python",
   "nbconvert_exporter": "python",
   "pygments_lexer": "ipython3",
   "version": "3.7.10"
  }
 },
 "nbformat": 4,
 "nbformat_minor": 4
}
