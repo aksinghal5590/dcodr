{
 "cells": [
  {
   "cell_type": "code",
   "execution_count": null,
   "metadata": {},
   "outputs": [],
   "source": [
    "import pandas as pd\n",
    "import numpy as np\n",
    "import matplotlib.pyplot as plt\n",
    "from statsmodels.stats.multitest import multipletests"
   ]
  },
  {
   "cell_type": "code",
   "execution_count": null,
   "metadata": {},
   "outputs": [],
   "source": [
    "def get_top_systems(drug_name, nest_map, rlipp_df):\n",
    "    \n",
    "    subsys_df = rlipp_df.sort_values(by='P_rho', ascending=False, ignore_index=True)\n",
    "    subsys_df['Rank'] = 0\n",
    "    subsys_df['Name'] = ''\n",
    "    subsys_df = subsys_df[['Rank', 'Term', 'Name', 'P_rho', 'P_pval', 'C_rho', 'C_pval', 'RLIPP']]\n",
    "    for i, row in subsys_df.iterrows():\n",
    "        subsys_df.at[i, 'Rank'] = i+1\n",
    "        subsys_df.at[i, 'Name'] = nest_map[row['Term']]\n",
    "        \n",
    "    return subsys_df"
   ]
  },
  {
   "cell_type": "code",
   "execution_count": null,
   "metadata": {},
   "outputs": [],
   "source": [
    "def bh(p_vals):\n",
    "    res = multipletests(p_vals, alpha=0.05, method='fdr_bh')\n",
    "    return res[1].max()\n",
    "\n",
    "bh.__name__ = 'BH'"
   ]
  },
  {
   "cell_type": "code",
   "execution_count": null,
   "metadata": {},
   "outputs": [],
   "source": [
    "def bonferroni(p_vals):\n",
    "    res = multipletests(p_vals, alpha=0.05, method='bonferroni')\n",
    "    return res[1].max()\n",
    "\n",
    "bonferroni.__name__ = 'Bonferroni'"
   ]
  },
  {
   "cell_type": "code",
   "execution_count": null,
   "metadata": {},
   "outputs": [],
   "source": [
    "nest_df = pd.read_csv('../data/NeST/NeST_node.csv', sep=',')\n",
    "nest_map = {row['name'].replace('.', '-'):row['Annotation'] for i, row in nest_df.iterrows()}"
   ]
  },
  {
   "cell_type": "code",
   "execution_count": null,
   "metadata": {},
   "outputs": [],
   "source": [
    "ont = 'ctg'\n",
    "dataset = 'av'\n",
    "zscore_method = 'auc'\n",
    "folds = 5\n",
    "\n",
    "drugs = list(pd.read_csv('../data/training_files_av/drugname_av.txt', header=None, names=['D'])['D'])\n",
    "drugs = ['Palbociclib']\n",
    "\n",
    "for drug in drugs:\n",
    "    for i in range(1, folds+1):\n",
    "        modeldir = '../models/Test/model_' + ont + '_' + dataset + '_' + drug + '_' + zscore_method + '_' + str(i)\n",
    "        rlipp_df = pd.read_csv(modeldir + '/rlipp.out', sep='\\t')\n",
    "        subsys_df = get_top_systems(drug, nest_map, rlipp_df)\n",
    "        subsys_df.to_csv(modeldir + '/subsystem_ranks.txt', sep='\\t', index=False)"
   ]
  },
  {
   "cell_type": "code",
   "execution_count": null,
   "metadata": {},
   "outputs": [],
   "source": [
    "for drug in drugs:\n",
    "    agg_terms = []\n",
    "    for i in range(1, folds+1):\n",
    "        modeldir = '../models/Test/model_' + ont + '_' + dataset + '_' + drug + '_' + zscore_method + '_' + str(i)\n",
    "        subsys_df = pd.read_csv(modeldir + '/subsystem_ranks.txt', sep='\\t')[['Term', 'Name', 'P_rho', 'P_pval']]\n",
    "        agg_terms.append(subsys_df)\n",
    "    \n",
    "    agg_df = pd.concat(agg_terms, ignore_index=True)\n",
    "    agg_rlipp_df = pd.DataFrame(agg_df.groupby(['Term', 'Name']).agg({'P_rho':'mean', \n",
    "                                                                      'P_pval': [bh, bonferroni, np.max, np.prod]\n",
    "                                                                     })).reset_index()\n",
    "    agg_rlipp_df.columns = ['_'.join(col).strip('_') for col in agg_rlipp_df.columns.values]\n",
    "    agg_rlipp_df = agg_rlipp_df.sort_values(by='P_rho_mean', ascending=False)\n",
    "    agg_rlipp_df.to_csv('../models/rlipp/' + drug + '_all_pval.txt', sep='\\t', float_format='%.4f', index=False)"
   ]
  },
  {
   "cell_type": "code",
   "execution_count": null,
   "metadata": {},
   "outputs": [],
   "source": []
  }
 ],
 "metadata": {
  "kernelspec": {
   "display_name": "Python 3 (ipykernel)",
   "language": "python",
   "name": "python3"
  },
  "language_info": {
   "codemirror_mode": {
    "name": "ipython",
    "version": 3
   },
   "file_extension": ".py",
   "mimetype": "text/x-python",
   "name": "python",
   "nbconvert_exporter": "python",
   "pygments_lexer": "ipython3",
   "version": "3.7.10"
  }
 },
 "nbformat": 4,
 "nbformat_minor": 4
}
