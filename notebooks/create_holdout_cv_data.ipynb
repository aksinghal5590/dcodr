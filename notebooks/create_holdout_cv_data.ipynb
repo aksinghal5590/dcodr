{
 "cells": [
  {
   "cell_type": "code",
   "execution_count": null,
   "id": "3e81d55f-d100-45af-b5f0-b733f8dc8c8e",
   "metadata": {},
   "outputs": [],
   "source": [
    "import copy\n",
    "import math\n",
    "import pandas as pd\n",
    "import numpy as np\n",
    "import random as rd\n",
    "import matplotlib.pyplot as plt"
   ]
  },
  {
   "cell_type": "code",
   "execution_count": null,
   "id": "ad57f13f-a5ad-4156-ad2b-2f34a6d1de34",
   "metadata": {},
   "outputs": [],
   "source": [
    "%matplotlib inline\n",
    "\n",
    "SMALL_SIZE = 12\n",
    "MEDIUM_SIZE = 16\n",
    "BIGGER_SIZE = 22\n",
    "\n",
    "plt.rc('font', size=SMALL_SIZE)          # controls default text sizes\n",
    "plt.rc('axes', titlesize=SMALL_SIZE)     # fontsize of the axes title\n",
    "plt.rc('axes', labelsize=MEDIUM_SIZE)    # fontsize of the x and y labels\n",
    "plt.rc('xtick', labelsize=SMALL_SIZE)    # fontsize of the tick labels\n",
    "plt.rc('ytick', labelsize=SMALL_SIZE)    # fontsize of the tick labels\n",
    "plt.rc('legend', fontsize=SMALL_SIZE)    # legend fontsize\n",
    "plt.rc('figure', titlesize=BIGGER_SIZE)  # fontsize of the figure title"
   ]
  },
  {
   "cell_type": "code",
   "execution_count": null,
   "id": "b7219678-6884-4ba2-a412-ba2c5e9b96c5",
   "metadata": {},
   "outputs": [],
   "source": [
    "def create_bar_plot(data, x_title, y_title):\n",
    "    fig = plt.figure(figsize=(9, 8))\n",
    "    ax = fig.add_subplot(111)\n",
    "    ax.hist(x=data, bins='auto', alpha=0.7, rwidth=0.85)\n",
    "    ax.grid(False)\n",
    "    ax.set_xlabel(x_title)\n",
    "    ax.set_ylabel(y_title)\n",
    "    plt.show()\n",
    "    return fig"
   ]
  },
  {
   "cell_type": "code",
   "execution_count": null,
   "id": "cbf28834-5c9d-4985-b788-fe3a49f3d36d",
   "metadata": {},
   "outputs": [],
   "source": [
    "#Separating data for each drug/cell\n",
    "\n",
    "def get_pos_map(obj_list, test_df, col):\n",
    "    pos_map = {obj:[] for obj in obj_list}\n",
    "    for i, row in test_df.iterrows():\n",
    "        pos_map[row[col]].append(i)\n",
    "    return pos_map"
   ]
  },
  {
   "cell_type": "code",
   "execution_count": null,
   "id": "272512f8-e4db-4086-b0fe-ee1b27e4b37d",
   "metadata": {},
   "outputs": [],
   "source": [
    "#Arrange the obj_list in the descending order of variance\n",
    "\n",
    "def sort_var(obj_list, var_list):\n",
    "    var_map = {}\n",
    "    for i, obj in enumerate(obj_list):\n",
    "        var_map[obj] = var_list[i]\n",
    "    return {obj:var for obj,var in sorted(var_map.items(), key=lambda item:item[1], reverse=True)}"
   ]
  },
  {
   "cell_type": "code",
   "execution_count": null,
   "id": "1eb8c1e1-de28-41f3-9564-99e61a92f0d5",
   "metadata": {},
   "outputs": [],
   "source": [
    "def calc_stddev(obj_list, train_df, col):\n",
    "    var_list = [0.0] * len(obj_list)\n",
    "    pos_map = get_pos_map(obj_list, train_df, col)\n",
    "    for i, obj in enumerate(obj_list):\n",
    "        train_vals = np.take(train_df['auc'], pos_map[obj])\n",
    "        var_list[i] = np.std(train_vals)\n",
    "    return sort_var(obj_list, var_list)"
   ]
  },
  {
   "cell_type": "code",
   "execution_count": null,
   "id": "afe2e8f4-2146-4aff-8912-d1c3cf9284d2",
   "metadata": {},
   "outputs": [],
   "source": [
    "def get_filtered_data(df, fraction):\n",
    "    \n",
    "    fig = 0\n",
    "\n",
    "    df.sort_values(by='auc', inplace=True, ignore_index=True)\n",
    "    \n",
    "    data_size = len(df)\n",
    "    class_size = int(data_size * fraction)\n",
    "    sens_df = df.iloc[ : class_size]\n",
    "    res_df = df.iloc[data_size - class_size : data_size]\n",
    "    \n",
    "    filtered_df = pd.concat([sens_df, res_df], axis=0, ignore_index=True)\n",
    "    filtered_df = filtered_df.sample(frac=1).reset_index(drop=True)\n",
    "    return filtered_df"
   ]
  },
  {
   "cell_type": "code",
   "execution_count": null,
   "id": "29190c41-b9a7-439f-96a7-bdfa0e7fda36",
   "metadata": {},
   "outputs": [],
   "source": [
    "def create_strict_cv_data(train_df, cell_lines, dataset, drug, fold_size=5):\n",
    "    \n",
    "    cell_count = len(cell_lines)\n",
    "    for k in range(1, fold_size+1):\n",
    "        \n",
    "        cv_size = int(cell_count/fold_size) + k%2\n",
    "        k_cell_lines = []\n",
    "\n",
    "        for i in range(cv_size):\n",
    "            r = rd.randint(0, len(cell_lines) - 1)\n",
    "            k_cell_lines.append(cell_lines.pop(r))\n",
    "\n",
    "        k_test_data = train_df.query('cell_line in @k_cell_lines')\n",
    "        k_train_data = train_df.drop(k_test_data.index)\n",
    "\n",
    "        k_test_data.to_csv(\"../data/training_files_av/\" + str(k) + \"_test_\" + dataset + \"_\" + drug + \".txt\", sep=\"\\t\", header=False, index=False)\n",
    "        k_train_data.to_csv(\"../data/training_files_av/\" + str(k) + \"_train_\" + dataset + \"_\" + drug + \".txt\", sep=\"\\t\", header=False, index=False)"
   ]
  },
  {
   "cell_type": "code",
   "execution_count": null,
   "id": "c68caeed-4e67-4a17-a557-f679da5e098d",
   "metadata": {},
   "outputs": [],
   "source": [
    "def create_select_drug_data(cell_list, drugs, drug_name_map, train_df, dataset):\n",
    "    for drug in drugs:\n",
    "        drug_smiles = drug_name_map[drug]\n",
    "        drug_train_df = train_df.query(\"smiles == @drug_smiles\")\n",
    "        #drug_train_df = get_filtered_data(drug_train_df, 0.3)\n",
    "        drug_train_df.to_csv(\"../data/training_files_av/train_\" + dataset + \"_\" + drug + \".txt\", sep=\"\\t\", header=False, index=False)\n",
    "        \n",
    "        cells = copy.deepcopy(cell_list)\n",
    "        create_strict_cv_data(drug_train_df, cells, dataset, drug)"
   ]
  },
  {
   "cell_type": "code",
   "execution_count": null,
   "id": "0df2eafc-9588-4b33-a0e9-8022b9eef83b",
   "metadata": {},
   "outputs": [],
   "source": [
    "dataset = \"av\"\n",
    "\n",
    "cell_list = list(pd.read_csv(\"../data/training_files_av/cell2ind_\" + dataset + \".txt\", sep=\"\\t\", header=None, names=['I', 'C'])['C'])\n",
    "\n",
    "drug_list = list(pd.read_csv(\"../data/training_files_av/drug2ind_\" + dataset + \".txt\", sep=\"\\t\", header=None, names=['I', 'D'])['D'])\n",
    "\n",
    "all_df = pd.read_csv(\"../data/training_files_av/train_\" + dataset + \".txt\", sep=\"\\t\", header=None, names=['cell_line', 'smiles', 'auc', 'dataset'])\n",
    "\n",
    "drug_info = pd.read_csv(\"../data/master_druglist_smiles_final.csv\")[['name', 'isomeric_smiles']]\n",
    "drug_info['name'] = drug_info['name'].str.replace(' ','-')\n",
    "drug_info['name'] = drug_info['name'].str.replace('\"','')\n",
    "\n",
    "drug_smiles_map = dict(zip(drug_info.isomeric_smiles, drug_info.name))\n",
    "drug_name_map = dict(zip(drug_info.name, drug_info.isomeric_smiles))"
   ]
  },
  {
   "cell_type": "code",
   "execution_count": null,
   "id": "148f84b8-9a7d-436a-8585-bdbfedbc9e93",
   "metadata": {},
   "outputs": [],
   "source": [
    "stddev_map = calc_stddev(drug_list, all_df, 'smiles')\n",
    "av_drug_hist = create_bar_plot(stddev_map.values(), 'Std Dev', '# of Drugs')"
   ]
  },
  {
   "cell_type": "code",
   "execution_count": null,
   "id": "64cf8aea-213a-48ae-b6e7-a50e261a4c4c",
   "metadata": {},
   "outputs": [],
   "source": [
    "std_vals = np.array(list(stddev_map.values()))"
   ]
  },
  {
   "cell_type": "code",
   "execution_count": null,
   "id": "7d05dcbe-233b-48ef-8385-bade4d4c640f",
   "metadata": {},
   "outputs": [],
   "source": [
    "threshold = np.median(std_vals) + 1.5*np.std(std_vals)\n",
    "threshold"
   ]
  },
  {
   "cell_type": "code",
   "execution_count": null,
   "id": "b0149d36-c6ad-4d71-b32f-f85a8f11f669",
   "metadata": {},
   "outputs": [],
   "source": [
    "top_drugs = []\n",
    "for i, drug in enumerate(stddev_map.keys()):\n",
    "    if i == 50:\n",
    "        break\n",
    "    top_drugs.append(drug)\n",
    "\n",
    "top_drugs = [drug_smiles_map[d] for d in top_drugs if '.' not in d]"
   ]
  },
  {
   "cell_type": "code",
   "execution_count": null,
   "id": "3a2a3be3-34ea-4399-a44b-d8a0aff58c66",
   "metadata": {},
   "outputs": [],
   "source": [
    "top_drugs"
   ]
  },
  {
   "cell_type": "code",
   "execution_count": null,
   "id": "7dbdb4a9-e3cb-46d7-aeae-eec45ea84228",
   "metadata": {},
   "outputs": [],
   "source": [
    "top_drugs_df = pd.DataFrame(top_drugs)"
   ]
  },
  {
   "cell_type": "code",
   "execution_count": null,
   "id": "76d61f20-ef7c-4644-b3b1-e11c53cf7851",
   "metadata": {},
   "outputs": [],
   "source": [
    "#top_drugs_df.to_csv(\"../data/training_files_av/drugname_av.txt\", header=False, index=False)"
   ]
  },
  {
   "cell_type": "code",
   "execution_count": null,
   "id": "d3ddb7a2-70a4-473a-ab4a-993d0fae4375",
   "metadata": {},
   "outputs": [],
   "source": [
    "cmap_drugs = pd.read_csv(\"../data/CMAP/drugs_cmap.txt\", header=None, names=['name'])\n",
    "cmap_drugs['name'] = cmap_drugs['name'].str.replace(' ','-')\n",
    "cmap_drugs['name'] = cmap_drugs['name'].str.replace('\"','')"
   ]
  },
  {
   "cell_type": "code",
   "execution_count": null,
   "id": "13b6b1d6-02b0-4e51-a7e3-421c694ba04e",
   "metadata": {},
   "outputs": [],
   "source": [
    "cmap_drugs.to_csv(\"../data/training_files_av/drugname_cmap.txt\", header=False, index=False)"
   ]
  },
  {
   "cell_type": "code",
   "execution_count": null,
   "id": "ffcfbf41-9f15-4c15-96c1-9adf63255965",
   "metadata": {},
   "outputs": [],
   "source": [
    "drugs = list(cmap_drugs['name'])"
   ]
  },
  {
   "cell_type": "code",
   "execution_count": null,
   "id": "afdb7f5e-f806-4b23-ba63-b70e0534a086",
   "metadata": {},
   "outputs": [],
   "source": [
    "create_select_drug_data(cell_list, drugs, drug_name_map, all_df, dataset)"
   ]
  },
  {
   "cell_type": "code",
   "execution_count": null,
   "id": "27b3c6ac-f95f-4de0-8581-ae8109e5b92f",
   "metadata": {},
   "outputs": [],
   "source": []
  }
 ],
 "metadata": {
  "kernelspec": {
   "display_name": "Python 3 (ipykernel)",
   "language": "python",
   "name": "python3"
  },
  "language_info": {
   "codemirror_mode": {
    "name": "ipython",
    "version": 3
   },
   "file_extension": ".py",
   "mimetype": "text/x-python",
   "name": "python",
   "nbconvert_exporter": "python",
   "pygments_lexer": "ipython3",
   "version": "3.7.10"
  }
 },
 "nbformat": 4,
 "nbformat_minor": 5
}
