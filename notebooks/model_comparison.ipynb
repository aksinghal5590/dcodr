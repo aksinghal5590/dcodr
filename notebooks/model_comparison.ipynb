{
 "cells": [
  {
   "cell_type": "code",
   "execution_count": 1,
   "metadata": {},
   "outputs": [],
   "source": [
    "import pandas as pd\n",
    "import numpy as np\n",
    "import math\n",
    "import matplotlib.pyplot as plt\n",
    "from scipy import stats\n",
    "import seaborn as sns\n",
    "from sklearn.metrics import r2_score\n",
    "from sklearn.preprocessing import scale\n",
    "from sklearn.preprocessing import robust_scale\n",
    "from sklearn import metrics\n",
    "from tabulate import tabulate\n",
    "from sklearn.decomposition import PCA\n",
    "from ddot import Ontology\n",
    "\n",
    "pd.options.mode.chained_assignment = None  # default='warn'"
   ]
  },
  {
   "cell_type": "code",
   "execution_count": 2,
   "metadata": {},
   "outputs": [
    {
     "data": {
      "text/html": [
       "<svg  width=\"550\" height=\"55\"><rect x=\"0\" y=\"0\" width=\"55\" height=\"55\" style=\"fill:#4878d0;stroke-width:2;stroke:rgb(255,255,255)\"/><rect x=\"55\" y=\"0\" width=\"55\" height=\"55\" style=\"fill:#ee854a;stroke-width:2;stroke:rgb(255,255,255)\"/><rect x=\"110\" y=\"0\" width=\"55\" height=\"55\" style=\"fill:#6acc64;stroke-width:2;stroke:rgb(255,255,255)\"/><rect x=\"165\" y=\"0\" width=\"55\" height=\"55\" style=\"fill:#d65f5f;stroke-width:2;stroke:rgb(255,255,255)\"/><rect x=\"220\" y=\"0\" width=\"55\" height=\"55\" style=\"fill:#956cb4;stroke-width:2;stroke:rgb(255,255,255)\"/><rect x=\"275\" y=\"0\" width=\"55\" height=\"55\" style=\"fill:#8c613c;stroke-width:2;stroke:rgb(255,255,255)\"/><rect x=\"330\" y=\"0\" width=\"55\" height=\"55\" style=\"fill:#dc7ec0;stroke-width:2;stroke:rgb(255,255,255)\"/><rect x=\"385\" y=\"0\" width=\"55\" height=\"55\" style=\"fill:#797979;stroke-width:2;stroke:rgb(255,255,255)\"/><rect x=\"440\" y=\"0\" width=\"55\" height=\"55\" style=\"fill:#d5bb67;stroke-width:2;stroke:rgb(255,255,255)\"/><rect x=\"495\" y=\"0\" width=\"55\" height=\"55\" style=\"fill:#82c6e2;stroke-width:2;stroke:rgb(255,255,255)\"/></svg>"
      ],
      "text/plain": [
       "[(0.2823529411764706, 0.47058823529411764, 0.8156862745098039),\n",
       " (0.9333333333333333, 0.5215686274509804, 0.2901960784313726),\n",
       " (0.41568627450980394, 0.8, 0.39215686274509803),\n",
       " (0.8392156862745098, 0.37254901960784315, 0.37254901960784315),\n",
       " (0.5843137254901961, 0.4235294117647059, 0.7058823529411765),\n",
       " (0.5490196078431373, 0.3803921568627451, 0.23529411764705882),\n",
       " (0.8627450980392157, 0.49411764705882355, 0.7529411764705882),\n",
       " (0.4745098039215686, 0.4745098039215686, 0.4745098039215686),\n",
       " (0.8352941176470589, 0.7333333333333333, 0.403921568627451),\n",
       " (0.5098039215686274, 0.7764705882352941, 0.8862745098039215)]"
      ]
     },
     "execution_count": 2,
     "metadata": {},
     "output_type": "execute_result"
    }
   ],
   "source": [
    "sns.set()\n",
    "sns.set_style(\"white\")\n",
    "sns.set_style(\"ticks\", {\"xtick.major.size\":8, \"ytick.major.size\":8})\n",
    "sns.axes_style(\"whitegrid\")\n",
    "sns.set_palette(\"muted\")\n",
    "sns.color_palette(\"muted\")"
   ]
  },
  {
   "cell_type": "code",
   "execution_count": 3,
   "metadata": {},
   "outputs": [],
   "source": [
    "plt.rcParams['svg.fonttype'] = 'none'\n",
    "\n",
    "SMALL_SIZE = 12\n",
    "MEDIUM_SIZE = 16\n",
    "BIGGER_SIZE = 22\n",
    "\n",
    "plt.rc('font', size=SMALL_SIZE)          # controls default text sizes\n",
    "plt.rc('axes', titlesize=SMALL_SIZE)     # fontsize of the axes title\n",
    "plt.rc('axes', labelsize=MEDIUM_SIZE)    # fontsize of the x and y labels\n",
    "plt.rc('xtick', labelsize=SMALL_SIZE)    # fontsize of the tick labels\n",
    "plt.rc('ytick', labelsize=SMALL_SIZE)    # fontsize of the tick labels\n",
    "plt.rc('legend', fontsize=SMALL_SIZE)    # legend fontsize\n",
    "plt.rc('figure', titlesize=BIGGER_SIZE)  # fontsize of the figure title"
   ]
  },
  {
   "cell_type": "code",
   "execution_count": 4,
   "metadata": {},
   "outputs": [],
   "source": [
    "#Separating data for each drug/cell\n",
    "\n",
    "def get_pos_map(obj_list, test_df, col):\n",
    "    pos_map = {obj:[] for obj in obj_list}\n",
    "    for i, row in test_df.iterrows():\n",
    "        if row[col] in pos_map:\n",
    "            pos_map[row[col]].append(i)\n",
    "    return pos_map"
   ]
  },
  {
   "cell_type": "code",
   "execution_count": 5,
   "metadata": {},
   "outputs": [],
   "source": [
    "#Arrange the obj_list in the descending order of the scores\n",
    "\n",
    "def sort_scores(obj_list, scores):\n",
    "    score_map = {}\n",
    "    for i, obj in enumerate(obj_list):\n",
    "        score_map[obj] = scores[i]\n",
    "    return {obj:sc for obj,sc in sorted(score_map.items(), key=lambda item:item[1], reverse=True)}"
   ]
  },
  {
   "cell_type": "code",
   "execution_count": 6,
   "metadata": {},
   "outputs": [],
   "source": [
    "def create_confusion_matrix(sens, res, pred_sens, pred_res):\n",
    "    tp = len([c for c in pred_sens if c in sens]) + 1\n",
    "    fn = len([c for c in pred_sens if c in res]) + 1\n",
    "    fp = len([c for c in pred_res if c in sens]) + 1\n",
    "    tn = len([c for c in pred_res if c in res]) + 1\n",
    "    \n",
    "    cont_table = [['Pred. Sensitive', tp, fn],\n",
    "                  ['Pred. Resistant', fp, tn]]\n",
    "    odds_ratio = (tp*tn)/(fn*fp)\n",
    "    \n",
    "    return cont_table, odds_ratio"
   ]
  },
  {
   "cell_type": "code",
   "execution_count": 161,
   "metadata": {},
   "outputs": [],
   "source": [
    "def create_true_auc_waterfall(test_df, sens_df, res_df, pred_sens_df, pred_res_df, title):\n",
    "    \n",
    "    fig, ax = plt.subplots(figsize=(8, 8))\n",
    "\n",
    "    data_list = []\n",
    "    all_data = pd.concat([pred_sens_df, pred_res_df], axis=0, ignore_index=True)\n",
    "    all_data.sort_values(by='auc', inplace=True, ignore_index=True, ascending=False)\n",
    "    for _,row in all_data.iterrows():\n",
    "        cell_name = str(row['cell_line'])\n",
    "        \n",
    "        if cell_name not in list(res_df['cell_line']) and cell_name not in list(sens_df['cell_line']):\n",
    "            continue\n",
    "        \n",
    "        if cell_name in list(pred_res_df['cell_line']):\n",
    "            data_list.append((cell_name, row['auc'], 'red'))\n",
    "\n",
    "        elif cell_name in list(pred_sens_df['cell_line']):\n",
    "            data_list.append((cell_name, row['auc'], 'blue'))\n",
    "            \n",
    "        #if row['auc'] < min(res_df['auc']) and row['auc'] > max(sens_df['auc']):\n",
    "        #    data_list.append((cell_name, row['auc'], 'grey'))\n",
    "            \n",
    "    ax.bar([d[0] for d in data_list], [d[1] for d in data_list], color=[d[2] for d in data_list], width=1, edgecolor='none')\n",
    "    ax.set_xticks([])\n",
    "    ax.set_ylim((0, np.max(all_data['auc']) + 0.02))\n",
    "    ax.set_xlabel('Cell lines')\n",
    "    ax.set_ylabel('True AUC')\n",
    "    ax.set_title(title)\n",
    "    return fig"
   ]
  },
  {
   "cell_type": "code",
   "execution_count": 125,
   "metadata": {},
   "outputs": [],
   "source": [
    "def create_pred_auc_waterfall(test_df, sens_df, res_df, pred_sens_df, pred_res_df, title):\n",
    "    \n",
    "    fig, ax = plt.subplots(figsize=(8, 6))\n",
    "\n",
    "    data_list = []\n",
    "    test_df.sort_values(by='pred', inplace=True, ignore_index=True, ascending=False)\n",
    "    for _,row in test_df.iterrows():\n",
    "        cell_name = str(row['cell_line'])\n",
    "        \n",
    "        if cell_name in list(res_df['cell_line']):\n",
    "            data_list.append((cell_name, row['pred'], 'red'))\n",
    "\n",
    "        elif cell_name in list(sens_df['cell_line']):\n",
    "            data_list.append((cell_name, row['pred'], 'blue'))\n",
    "            \n",
    "        else:\n",
    "            data_list.append((cell_name, row['pred'], 'grey'))\n",
    "            \n",
    "    ax.bar([d[0] for d in data_list], [d[1] for d in data_list], color=[d[2] for d in data_list], width=1, edgecolor='none')\n",
    "    ax.set_xticks([])\n",
    "    ax.set_ylim((np.min(test_df['pred']) - 0.02, np.max(test_df['pred']) + 0.02))\n",
    "    ax.set_xlabel('Cell lines')\n",
    "    ax.set_ylabel('Predicted Drug Response (AUC)')\n",
    "    ax.set_title(title)\n",
    "    return fig"
   ]
  },
  {
   "cell_type": "code",
   "execution_count": 8,
   "metadata": {},
   "outputs": [],
   "source": [
    "def plot_drug_performance(drug_corr_map, cut_off):\n",
    "    fig, ax = plt.subplots(figsize=(8, 8))\n",
    "    x_red = []\n",
    "    y_red = []\n",
    "    x_blue = []\n",
    "    y_blue = []\n",
    "    for d in drug_corr_map.keys():\n",
    "        if drug_corr_map[d] >= cut_off:\n",
    "            x_red.append(d)\n",
    "            y_red.append(drug_corr_map[d])\n",
    "        else:\n",
    "            x_blue.append(d)\n",
    "            y_blue.append(drug_corr_map[d])\n",
    "    \n",
    "    ratio = float(len(x_red))/float(len(drug_corr_map.keys()))\n",
    "    print('Red ratio = ' + str(ratio))\n",
    "    ax.bar(x_red, y_red, color='red', width=1.0, alpha=0.9)\n",
    "    ax.bar(x_blue, y_blue, color='blue', width=1.0, alpha=0.9)\n",
    "    ax.set_xticks([])\n",
    "    ax.set_xlabel('Drugs')\n",
    "    ax.set_ylabel('Performance\\nSpearman ρ (Predicted vs. Actual)')\n",
    "    plt.show()\n",
    "    return fig"
   ]
  },
  {
   "cell_type": "code",
   "execution_count": 9,
   "metadata": {},
   "outputs": [],
   "source": [
    "def create_drug_performance_plot(drugs, drug_corr_list, top=False, cut_off=0.1):\n",
    "    drug_corr_map = sort_scores(drugs, drug_corr_list)\n",
    "    if top:\n",
    "        fig_drug_perf = plot_top_drug_performance(drug_corr_map, cut_off)\n",
    "    else:\n",
    "        fig_drug_perf = plot_drug_performance(drug_corr_map, cut_off)\n",
    "        print('Median spearman rho:', np.median(list(drug_corr_map.values())))\n",
    "    return fig_drug_perf"
   ]
  },
  {
   "cell_type": "code",
   "execution_count": 10,
   "metadata": {},
   "outputs": [],
   "source": [
    "def create_scatter_plot(X, Y, x_title, y_title):\n",
    "    \n",
    "    idx_del = []\n",
    "    for i, x in enumerate(X):\n",
    "        if math.isnan(x):\n",
    "            idx_del.append(i)\n",
    "    for i, y in enumerate(Y):\n",
    "        if math.isnan(y):\n",
    "            idx_del.append(i)\n",
    "    X = [x for i, x in enumerate(X) if i not in idx_del]\n",
    "    Y = [y for i, y in enumerate(Y) if i not in idx_del]\n",
    "    \n",
    "    scatter_df = pd.DataFrame({x_title: X, y_title: Y})\n",
    "    \n",
    "    fig, ax = plt.subplots(figsize=(6,6))\n",
    "    sns.scatterplot(data=scatter_df, x=x_title, y=y_title, s=35, ax=ax)\n",
    "    \n",
    "    ax.set_xlabel(x_title)\n",
    "    ax.set_ylabel(y_title)\n",
    "    lims = [\n",
    "        np.min([ax.get_xlim(), ax.get_ylim()]),  # min of both axes\n",
    "        np.max([ax.get_xlim(), ax.get_ylim()]),  # max of both axes\n",
    "    ]\n",
    "    plt.plot(lims, lims, 'k--', alpha=0.75, zorder=0)\n",
    "    ax.set_aspect('equal')\n",
    "    ax.set_xlim(lims)\n",
    "    ax.set_ylim(lims)\n",
    "    ax.spines['right'].set_visible(False)\n",
    "    ax.spines['top'].set_visible(False)\n",
    "    ax.yaxis.set_ticks_position('left')\n",
    "    ax.xaxis.set_ticks_position('bottom')\n",
    "    \n",
    "    print('t-test', stats.ttest_ind(Y, X, alternative='greater', equal_var=False))\n",
    "    \n",
    "    return fig"
   ]
  },
  {
   "cell_type": "code",
   "execution_count": 11,
   "metadata": {},
   "outputs": [],
   "source": [
    "def get_boxplot(df, x_title, y_title):\n",
    "    \n",
    "    fig, ax = plt.subplots(figsize=(9,9))\n",
    "    ax.boxplot(df, showfliers=False, widths=0.5, patch_artist=True)\n",
    "    ax.set_xticklabels(list(df.columns))\n",
    "    ax.set_xlabel(x_title)\n",
    "    ax.set_ylabel(y_title)\n",
    "    \n",
    "    plt.show()\n",
    "    \n",
    "    return fig"
   ]
  },
  {
   "cell_type": "code",
   "execution_count": 169,
   "metadata": {},
   "outputs": [],
   "source": [
    "def create_bar_chart(x, data, x_title, y_title):\n",
    "    fig = plt.figure(figsize=(9, 9))\n",
    "    ax = fig.add_subplot(111)\n",
    "    x_pos = [i for i, _ in enumerate(x)]\n",
    "    x_labels = [s for _,s in enumerate(x)]\n",
    "    ax.bar(x_pos, data, align='center', alpha=1.0)\n",
    "    plt.xticks(x_pos, x)\n",
    "    ax.set_xlabel(x_title)\n",
    "    ax.set_ylabel(y_title)\n",
    "    plt.show()\n",
    "    return fig"
   ]
  },
  {
   "cell_type": "code",
   "execution_count": 140,
   "metadata": {},
   "outputs": [],
   "source": [
    "def create_histogram(data, x_title, y_title):\n",
    "    fig = plt.figure(figsize=(9, 8))\n",
    "    ax = fig.add_subplot(111)\n",
    "    ax.hist(x=data, bins='auto', alpha=0.7, rwidth=0.85)\n",
    "    ax.grid(False)\n",
    "    ax.set_xlim(0, 1)\n",
    "    ax.set_xlabel(x_title)\n",
    "    ax.set_ylabel(y_title)\n",
    "    plt.show()\n",
    "    return fig"
   ]
  },
  {
   "cell_type": "code",
   "execution_count": 13,
   "metadata": {},
   "outputs": [],
   "source": [
    "def get_violinplot(df, x_title, y_title):\n",
    "    \n",
    "    fig, ax = plt.subplots(figsize=(6,6))\n",
    "    ax.violinplot(df, showmedians=True)\n",
    "    ax.set_xticklabels(list(df.columns), rotation=45)\n",
    "    ax.set_xlabel(x_title)\n",
    "    ax.set_ylabel(y_title)\n",
    "    \n",
    "    plt.show()\n",
    "    \n",
    "    return fig"
   ]
  },
  {
   "cell_type": "code",
   "execution_count": 14,
   "metadata": {},
   "outputs": [],
   "source": [
    "def create_line_curve(X, Y, x_title, y_title, x_lim, y_lim):\n",
    "    fig = plt.figure(figsize=(5, 5))\n",
    "    ax = fig.add_subplot(111)\n",
    "    ax.plot(X, Y)\n",
    "    ax.grid(False)\n",
    "    ax.set_xlim(x_lim)\n",
    "    ax.set_ylim(y_lim)\n",
    "    ax.set_xlabel(x_title)\n",
    "    ax.set_ylabel(y_title)\n",
    "    plt.show()\n",
    "    return fig"
   ]
  },
  {
   "cell_type": "code",
   "execution_count": 15,
   "metadata": {},
   "outputs": [],
   "source": [
    "def all_models_scatterplot(performance_df, x_title, y_title):\n",
    "    \n",
    "    fig, ax = plt.subplots(figsize=(6, 14))\n",
    "    \n",
    "    performance_df.plot(kind='scatter', x='Random Forest', y='Drug', color='DarkGreen', label='Random Forest', ax=ax)\n",
    "    performance_df.plot(kind='scatter', x='Multi layer perceptron', y='Drug', color='Green', label='Multi layer perceptron', ax=ax)\n",
    "    performance_df.plot(kind='scatter', x='ElasticNet', y='Drug', color='LightGreen', label='ElasticNet', ax=ax)\n",
    "    performance_df.plot(kind='scatter', x='DCoDR', y='Drug', color='red', label='DCoDR', s=30, ax=ax)\n",
    "    \n",
    "    plt.axvline(x=np.median(performance_df['DCoDR']), linestyle='--')\n",
    "\n",
    "    ax.set_xlabel(x_title)\n",
    "    ax.set_ylabel(y_title)\n",
    "    ax.spines['right'].set_visible(False)\n",
    "    ax.spines['top'].set_visible(False)\n",
    "    ax.yaxis.set_ticks_position('left')\n",
    "    ax.xaxis.set_ticks_position('bottom')\n",
    "    ax.legend(loc='center left', bbox_to_anchor=(1, 0.5))\n",
    "    \n",
    "    return fig"
   ]
  },
  {
   "cell_type": "code",
   "execution_count": 16,
   "metadata": {},
   "outputs": [],
   "source": [
    "def calc_std_vals(df, zscore_method):\n",
    "    std_df = pd.DataFrame(columns=['smiles', 'center', 'scale'])\n",
    "    std_list = []\n",
    "\n",
    "    if zscore_method == 'zscore':\n",
    "        for name, group in df.groupby(['smiles'])['auc']:\n",
    "            center = group.mean()\n",
    "            scale = group.std()\n",
    "            if math.isnan(scale) or scale == 0.0:\n",
    "                scale = 1.0\n",
    "            temp = pd.DataFrame([[name, center, scale]], columns=std_df.columns)\n",
    "            std_list.append(temp)\n",
    "\n",
    "    elif zscore_method == 'robustz':\n",
    "        for name, group in df.groupby(['smiles'])['auc']:\n",
    "            center = group.median()\n",
    "            scale = group.quantile(0.75) - group.quantile(0.25)\n",
    "            if math.isnan(scale) or scale == 0.0:\n",
    "                scale = 1.0\n",
    "            temp = pd.DataFrame([[name, center, scale]], columns=std_df.columns)\n",
    "            std_list.append(temp)\n",
    "    else:\n",
    "        for name, group in df.groupby(['smiles'])['auc']:\n",
    "            temp = pd.DataFrame([[name, 0.0, 1.0]], columns=std_df.columns)\n",
    "            std_list.append(temp)\n",
    "\n",
    "    std_df = pd.concat(std_list, ignore_index=True)\n",
    "    return std_df"
   ]
  },
  {
   "cell_type": "code",
   "execution_count": 17,
   "metadata": {},
   "outputs": [],
   "source": [
    "def standardize_data(df, std_df, zscore_method):\n",
    "    merged = pd.merge(df, std_df, how=\"left\", on=['smiles'], sort=False)\n",
    "    merged[zscore_method] = (merged['auc'] - merged['center']) / merged['scale']\n",
    "    merged = merged[['cell_line', 'smiles', zscore_method]]\n",
    "    return merged"
   ]
  },
  {
   "cell_type": "code",
   "execution_count": 18,
   "metadata": {},
   "outputs": [],
   "source": [
    "def normalize_auc(train_std_df, test_df, zscore_method):\n",
    "\n",
    "    test_std_df = calc_std_vals(test_df, zscore_method)\n",
    "    for i, row in test_std_df.iterrows():\n",
    "        smiles = row['smiles']\n",
    "        train_entry = train_std_df.query('smiles == @smiles')\n",
    "        if not train_entry.empty:\n",
    "            test_std_df.loc[i, 'center'] = float(train_entry['center'])\n",
    "            test_std_df.loc[i, 'scale'] = float(train_entry['scale'])\n",
    "            \n",
    "    test_df = standardize_data(test_df, test_std_df, zscore_method)\n",
    "    return test_df"
   ]
  },
  {
   "cell_type": "code",
   "execution_count": 19,
   "metadata": {},
   "outputs": [],
   "source": [
    "def print_best_params(modeldir):\n",
    "    log_file = modeldir + \"/train.log\"\n",
    "    with open(log_file, 'r') as fi:\n",
    "        logs = fi.readlines()\n",
    "    for i, log in enumerate(logs):\n",
    "        if 'Params:' in log:\n",
    "            print(logs[i+1].strip())\n",
    "            print(logs[i+2].strip())\n",
    "            break"
   ]
  },
  {
   "cell_type": "code",
   "execution_count": 20,
   "metadata": {},
   "outputs": [],
   "source": [
    "def get_avg_cv_data(ont, dataset, zscore_method, drug, fold_size=5):\n",
    "    \n",
    "    avg_corr = 0.0\n",
    "    fold_corr_list = []\n",
    "    for i in range(1, fold_size+1):\n",
    "        \n",
    "        test_file = '../data/training_files_av/' + str(i) + '_test_' + dataset + '_' + drug + '.txt'\n",
    "        test_df = pd.read_csv(test_file, sep='\\t', header=None, names=['cell_line', 'smiles', 'auc', 'dataset'])\n",
    "        \n",
    "        modeldir = '../models/model_' + ont + '_' + dataset + '_' + drug + '_' + zscore_method + '_' + str(i) \n",
    "        pred_file = modeldir + '/predict.txt'\n",
    "        try:\n",
    "            pred = np.loadtxt(pred_file)\n",
    "        except:\n",
    "            continue\n",
    "        \n",
    "        corr = stats.pearsonr(test_df['auc'], pred)[0]\n",
    "        fold_corr_list.append(corr)\n",
    "        avg_corr += corr\n",
    "        \n",
    "    avg_corr /= fold_size\n",
    "    return fold_corr_list, avg_corr"
   ]
  },
  {
   "cell_type": "code",
   "execution_count": 21,
   "metadata": {},
   "outputs": [],
   "source": [
    "def get_avg_cv_data_alternate(method, dataset, drug, fold_size=5):\n",
    "    \n",
    "    avg_corr = 0.0\n",
    "    fold_corr_list = []\n",
    "    for i in range(1, fold_size+1):\n",
    "        \n",
    "        test_file = '../data/training_files_av/' + str(i) + '_test_' + dataset + '_' + drug + '.txt'\n",
    "        test_df = pd.read_csv(test_file, sep='\\t', header=None, names=['cell_line', 'smiles', 'auc', 'dataset'])\n",
    "        \n",
    "        modeldir = '../models/' + method\n",
    "        pred_file = modeldir + '/predict' + '_' + dataset + '_' + drug + '_' + str(i) + '.txt'\n",
    "        try:\n",
    "            pred = np.loadtxt(pred_file)\n",
    "        except:\n",
    "            continue\n",
    "        \n",
    "        corr = stats.pearsonr(test_df['auc'], pred)[0]\n",
    "        fold_corr_list.append(corr)\n",
    "        avg_corr += corr\n",
    "        \n",
    "    avg_corr /= fold_size\n",
    "    return fold_corr_list, avg_corr"
   ]
  },
  {
   "cell_type": "code",
   "execution_count": null,
   "metadata": {},
   "outputs": [],
   "source": [
    "def get_filtered_data(test_df, fraction, is_inverted=False):\n",
    "\n",
    "    test_df.sort_values(by='pred', inplace=True, ignore_index=True)\n",
    "    \n",
    "    cell_name_map = dict()\n",
    "    for i, row in test_df.iterrows():\n",
    "        cell_line_name = str(row['cell_line'])\n",
    "        if cell_line_name not in cell_name_map:\n",
    "            cell_name_map[cell_line_name] = 1\n",
    "        else:\n",
    "            cell_name_map[cell_line_name] += 1\n",
    "        test_df.at[i, 'cell_line'] = cell_line_name + str(cell_name_map[cell_line_name])\n",
    "    \n",
    "    data_size = len(test_df)\n",
    "    class_size = int(data_size * fraction)\n",
    "    \n",
    "    if is_inverted:\n",
    "        pred_res_df = test_df.iloc[ : class_size]\n",
    "        pred_sens_df = test_df.iloc[data_size - class_size : data_size]\n",
    "    else:\n",
    "        pred_sens_df = test_df.iloc[ : class_size]\n",
    "        pred_res_df = test_df.iloc[data_size - class_size : data_size]\n",
    "    all_data = pd.concat([pred_sens_df, pred_res_df], axis=0, ignore_index=True)\n",
    "        \n",
    "    res_samples = []\n",
    "    sens_samples = []\n",
    "    stddev_auc = np.std(np.array(test_df['auc']))\n",
    "    median_auc = np.median(np.array(test_df['auc']))\n",
    "    \n",
    "    for _,row in all_data.iterrows():\n",
    "        temp = pd.DataFrame([[row['cell_line'], row['auc']]], columns=['cell_line', 'auc'])\n",
    "\n",
    "        if row['auc'] <= (median_auc - stddev_auc):\n",
    "            sens_samples.append(temp)\n",
    "            \n",
    "        elif row['auc'] >= (median_auc + stddev_auc):\n",
    "            res_samples.append(temp)\n",
    "    \n",
    "    res_df = 0\n",
    "    if len(res_samples) > 0:\n",
    "        res_df = pd.concat(res_samples, axis=0, ignore_index=True)\n",
    "    sens_df = 0\n",
    "    if len(sens_samples) > 0:\n",
    "        sens_df = pd.concat(sens_samples, axis=0, ignore_index=True)\n",
    "\n",
    "    return test_df, sens_df, res_df, pred_sens_df, pred_res_df"
   ]
  },
  {
   "cell_type": "code",
   "execution_count": 145,
   "metadata": {},
   "outputs": [],
   "source": [
    "def get_avg_cv_data_3class(ont, dataset, zscore_method, drug, fold_size=5, fraction=0.16, is_show=False):\n",
    "    \n",
    "    all_sens = []\n",
    "    all_res = []\n",
    "    all_pred_sens = []\n",
    "    all_pred_res = []\n",
    "    avg_corr = 0.0\n",
    "    fold_corr_list = []\n",
    "    for i in range(1, fold_size+1):\n",
    "        \n",
    "        test_file = '../data/training_files_av/' + str(i) + '_test_' + dataset + '_' + drug + '.txt'\n",
    "        test_df = pd.read_csv(test_file, sep='\\t', header=None, names=['cell_line', 'smiles', 'auc', 'dataset'])\n",
    "        \n",
    "        modeldir = '../models/model_' + ont + '_' + dataset + '_' + drug + '_' + zscore_method + '_' + str(i) \n",
    "        pred_file = modeldir + '/predict.txt'\n",
    "        try:\n",
    "            pred = np.loadtxt(pred_file)\n",
    "        except:\n",
    "            continue\n",
    "        test_df['pred'] = pred\n",
    "        \n",
    "        test_df, sens_df, res_df, pred_sens_df, pred_res_df = get_filtered_data(test_df, fraction)\n",
    "        \n",
    "        filtered_df = pd.concat([pred_sens_df, pred_res_df], axis=0, ignore_index=True)\n",
    "        corr = stats.pearsonr(filtered_df['auc'], filtered_df['pred'])[0]\n",
    "        fold_corr_list.append(corr)\n",
    "        avg_corr += corr\n",
    "        \n",
    "        all_sens.append(sens_df)\n",
    "        all_res.append(res_df)\n",
    "        all_pred_sens.append(pred_sens_df)\n",
    "        all_pred_res.append(pred_res_df)\n",
    "\n",
    "    avg_corr /= fold_size\n",
    "    \n",
    "    if is_show:\n",
    "        \n",
    "        #histogram = create_histogram(test_df['pred'], 'Cell lines', 'Predicted Drug Response (AUC)')\n",
    "        \n",
    "        all_sens_df = pd.concat(all_sens, axis=0, ignore_index=True)\n",
    "        all_res_df = pd.concat(all_res, axis=0, ignore_index=True)\n",
    "        all_pred_sens_df = pd.concat(all_pred_sens, axis=0, ignore_index=True)\n",
    "        all_pred_res_df = pd.concat(all_pred_res, axis=0, ignore_index=True)\n",
    "        fig = create_true_auc_waterfall(test_df, all_sens_df, all_res_df, all_pred_sens_df, all_pred_res_df, drug)\n",
    "        cont_table, odds_ratio = create_confusion_matrix(list(all_sens_df['cell_line']), list(all_res_df['cell_line']), \n",
    "                                                     list(all_pred_sens_df['cell_line']), list(all_pred_res_df['cell_line']))\n",
    "        return fold_corr_list, avg_corr, cont_table, odds_ratio, fig\n",
    "    else:\n",
    "        return fold_corr_list, avg_corr"
   ]
  },
  {
   "cell_type": "code",
   "execution_count": 24,
   "metadata": {},
   "outputs": [],
   "source": [
    "def get_avg_cv_data_3class_system(ont, dataset, zscore_method, drug, system, fold_size=5, fraction=0.16):\n",
    "    \n",
    "    all_sens = []\n",
    "    all_res = []\n",
    "    all_pred_sens = []\n",
    "    all_pred_res = []\n",
    "    avg_corr = 0.0\n",
    "    fold_corr_list = []\n",
    "    for i in range(1, fold_size+1):\n",
    "        \n",
    "        test_file = '../data/training_files_av/' + str(i) + '_test_' + dataset + '_' + drug + '.txt'\n",
    "        test_df = pd.read_csv(test_file, sep='\\t', header=None, names=['cell_line', 'smiles', 'auc', 'dataset'])\n",
    "        \n",
    "        modeldir = '../models/model_' + ont + '_' + dataset + '_' + drug + '_' + zscore_method + '_' + str(i) \n",
    "        embedding_data = np.loadtxt(modeldir + '/hidden/' + system + '.hidden')\n",
    "        pca = PCA(n_components=1)\n",
    "        system_activity = pca.fit_transform(embedding_data)\n",
    "        test_df['pred'] = system_activity[:, 0]\n",
    "        \n",
    "        is_inverted = False\n",
    "        if stats.spearmanr(test_df['auc'], test_df['pred'])[0] < 0:\n",
    "            is_inverted = True\n",
    "        sens_df, res_df, pred_sens_df, pred_res_df = get_filtered_data(test_df, fraction, is_inverted=is_inverted)\n",
    "        \n",
    "        filtered_df = pd.concat([pred_sens_df, pred_res_df], axis=0, ignore_index=True)\n",
    "        corr = stats.pearsonr(filtered_df['auc'], filtered_df['pred'])[0]\n",
    "        fold_corr_list.append(corr)\n",
    "        avg_corr += corr\n",
    "        \n",
    "        #cont_table, odds_ratio = create_confusion_matrix(list(sens_df['cell_line']), list(res_df['cell_line']), \n",
    "        #                                             list(pred_sens_df['cell_line']), list(pred_res_df['cell_line']))\n",
    "        \n",
    "        all_sens.append(sens_df)\n",
    "        all_res.append(res_df)\n",
    "        all_pred_sens.append(pred_sens_df)\n",
    "        all_pred_res.append(pred_res_df)\n",
    "        \n",
    "    all_sens_df = pd.concat(all_sens, axis=0, ignore_index=True)\n",
    "    all_res_df = pd.concat(all_res, axis=0, ignore_index=True)\n",
    "    all_pred_sens_df = pd.concat(all_pred_sens, axis=0, ignore_index=True)\n",
    "    all_pred_res_df = pd.concat(all_pred_res, axis=0, ignore_index=True)\n",
    "    \n",
    "    fig = create_true_auc_waterfall(all_sens_df, all_res_df, all_pred_sens_df, all_pred_res_df, system)\n",
    "    cont_table, odds_ratio = create_confusion_matrix(list(all_sens_df['cell_line']), list(all_res_df['cell_line']), \n",
    "                                                     list(all_pred_sens_df['cell_line']), list(all_pred_res_df['cell_line']))\n",
    "        \n",
    "    avg_corr /= fold_size\n",
    "    #return fold_corr_list, avg_corr\n",
    "    return fold_corr_list, avg_corr, cont_table, odds_ratio, fig"
   ]
  },
  {
   "cell_type": "code",
   "execution_count": 25,
   "metadata": {},
   "outputs": [],
   "source": [
    "def get_avg_cv_data_3class_gene(ont, dataset, zscore_method, drug, gene, fold_size=5, fraction=0.16):\n",
    "    \n",
    "    all_sens = []\n",
    "    all_res = []\n",
    "    all_pred_sens = []\n",
    "    all_pred_res = []\n",
    "    avg_corr = 0.0\n",
    "    fold_corr_list = []\n",
    "    for i in range(1, fold_size+1):\n",
    "        \n",
    "        test_file = '../data/training_files_av/' + str(i) + '_test_' + dataset + '_' + drug + '.txt'\n",
    "        test_df = pd.read_csv(test_file, sep='\\t', header=None, names=['cell_line', 'smiles', 'auc', 'dataset'])\n",
    "        \n",
    "        modeldir = '../models/model_' + ont + '_' + dataset + '_' + drug + '_' + zscore_method + '_' + str(i) \n",
    "        embedding_data = np.loadtxt(modeldir + '/hidden/' + gene + '.hidden')\n",
    "        test_df['pred'] = embedding_data\n",
    "        \n",
    "        is_inverted = False\n",
    "        if stats.spearmanr(test_df['auc'], test_df['pred'])[0] < 0:\n",
    "            is_inverted = True\n",
    "        sens_df, res_df, pred_sens_df, pred_res_df = get_filtered_data(test_df, fraction, is_inverted=is_inverted)\n",
    "        \n",
    "        filtered_df = pd.concat([pred_sens_df, pred_res_df], axis=0, ignore_index=True)\n",
    "        corr = stats.pearsonr(filtered_df['auc'], filtered_df['pred'])[0]\n",
    "        fold_corr_list.append(corr)\n",
    "        avg_corr += corr\n",
    "        \n",
    "        cont_table, odds_ratio = create_confusion_matrix(list(sens_df['cell_line']), list(res_df['cell_line']), \n",
    "                                                     list(pred_sens_df['cell_line']), list(pred_res_df['cell_line']))\n",
    "        \n",
    "        all_sens.append(sens_df)\n",
    "        all_res.append(res_df)\n",
    "        all_pred_sens.append(pred_sens_df)\n",
    "        all_pred_res.append(pred_res_df)\n",
    "        \n",
    "    #all_sens_df = pd.concat(all_sens, axis=0, ignore_index=True)\n",
    "    #all_res_df = pd.concat(all_res, axis=0, ignore_index=True)\n",
    "    #all_pred_sens_df = pd.concat(all_pred_sens, axis=0, ignore_index=True)\n",
    "    #all_pred_res_df = pd.concat(all_pred_res, axis=0, ignore_index=True)\n",
    "    \n",
    "    #fig = create_true_auc_waterfall(all_sens_df, all_res_df, all_pred_sens_df, all_pred_res_df, gene)\n",
    "    #cont_table, odds_ratio = create_confusion_matrix(list(all_sens_df['cell_line']), list(all_res_df['cell_line']), \n",
    "    #                                                 list(all_pred_sens_df['cell_line']), list(all_pred_res_df['cell_line']))\n",
    "        \n",
    "    avg_corr /= fold_size\n",
    "    return fold_corr_list, avg_corr\n",
    "    #return fold_corr_list, avg_corr, cont_table, odds_ratio, fig"
   ]
  },
  {
   "cell_type": "code",
   "execution_count": 175,
   "metadata": {},
   "outputs": [],
   "source": [
    "def get_avg_cv_data_3class_alternate(method, dataset, drug, fold_size=5, fraction=0.16):\n",
    "    \n",
    "    avg_corr = 0.0\n",
    "    fold_corr_list = []\n",
    "    for i in range(1, fold_size+1):\n",
    "        \n",
    "        test_file = '../data/training_files_av/' + str(i) + '_test_' + dataset + '_' + drug + '.txt'\n",
    "        test_df = pd.read_csv(test_file, sep='\\t', header=None, names=['cell_line', 'smiles', 'auc', 'dataset'])\n",
    "        \n",
    "        modeldir = '../models/' + method\n",
    "        pred_file = modeldir + '/predict' + '_' + dataset + '_' + drug + '_' + str(i) + '.txt'\n",
    "        try:\n",
    "            pred = np.loadtxt(pred_file)\n",
    "        except:\n",
    "            continue\n",
    "        test_df['pred'] = pred\n",
    "        \n",
    "        _, _, _, pred_sens_df, pred_res_df = get_filtered_data(test_df, fraction)\n",
    "        \n",
    "        filtered_df = pd.concat([pred_sens_df, pred_res_df], axis=0, ignore_index=True)\n",
    "        corr = stats.pearsonr(filtered_df['auc'], filtered_df['pred'])[0]\n",
    "        if math.isnan(corr):\n",
    "            corr = 0.0\n",
    "        fold_corr_list.append(corr)\n",
    "        avg_corr += corr\n",
    "        \n",
    "    avg_corr /= fold_size\n",
    "    return fold_corr_list, avg_corr"
   ]
  },
  {
   "cell_type": "code",
   "execution_count": 27,
   "metadata": {},
   "outputs": [],
   "source": [
    "def get_avg_cv_data_3class_mut(ont, dataset, zscore_method, drug, fold_size=5, fraction=0.16):\n",
    "    \n",
    "    all_test = []\n",
    "    avg_corr = 0.0\n",
    "    fold_corr_list = []\n",
    "    for i in range(1, fold_size+1):\n",
    "        \n",
    "        test_file = '../data/training_files_av/' + str(i) + '_test_' + dataset + '_' + drug + '.txt'\n",
    "        test_df = pd.read_csv(test_file, sep='\\t', header=None, names=['cell_line', 'smiles', 'auc', 'dataset'])\n",
    "        \n",
    "        modeldir = '../../nest_drugcell/models/model_' + ont + '_' + dataset + '_' + drug + '_' + zscore_method + '_' + str(i) \n",
    "        pred_file = modeldir + '/predict.txt'\n",
    "        try:\n",
    "            pred = np.loadtxt(pred_file)\n",
    "        except:\n",
    "            continue\n",
    "        test_df['pred'] = pred\n",
    "\n",
    "        _, _, pred_sens_df, pred_res_df = get_filtered_data(test_df, fraction)\n",
    "        \n",
    "        filtered_df = pd.concat([pred_sens_df, pred_res_df], axis=0, ignore_index=True)\n",
    "        corr = stats.pearsonr(filtered_df['auc'], filtered_df['pred'])[0]\n",
    "        fold_corr_list.append(corr)\n",
    "        avg_corr += corr\n",
    "        \n",
    "    avg_corr /= fold_size\n",
    "    return fold_corr_list, avg_corr"
   ]
  },
  {
   "cell_type": "code",
   "execution_count": 28,
   "metadata": {},
   "outputs": [],
   "source": [
    "def get_avg_cv_data_3class_cnv(ont, dataset, zscore_method, drug, fold_size=5, fraction=0.16):\n",
    "    \n",
    "    all_test = []\n",
    "    avg_corr = 0.0\n",
    "    fold_corr_list = []\n",
    "    for i in range(1, fold_size+1):\n",
    "        \n",
    "        test_file = '../data/training_files_av/' + str(i) + '_test_' + dataset + '_' + drug + '.txt'\n",
    "        test_df = pd.read_csv(test_file, sep='\\t', header=None, names=['cell_line', 'smiles', 'auc', 'dataset'])\n",
    "        \n",
    "        modeldir = '../models/CNV/model_' + ont + '_' + dataset + '_' + drug + '_' + zscore_method + '_' + str(i) \n",
    "        pred_file = modeldir + '/predict.txt'\n",
    "        try:\n",
    "            pred = np.loadtxt(pred_file)\n",
    "        except:\n",
    "            continue\n",
    "        test_df['pred'] = pred\n",
    "\n",
    "        _, _, pred_sens_df, pred_res_df = get_filtered_data(test_df, fraction)\n",
    "        \n",
    "        filtered_df = pd.concat([pred_sens_df, pred_res_df], axis=0, ignore_index=True)\n",
    "        corr = stats.pearsonr(filtered_df['auc'], filtered_df['pred'])[0]\n",
    "        fold_corr_list.append(corr)\n",
    "        avg_corr += corr\n",
    "        \n",
    "    avg_corr /= fold_size\n",
    "    return fold_corr_list, avg_corr"
   ]
  },
  {
   "cell_type": "code",
   "execution_count": 29,
   "metadata": {},
   "outputs": [],
   "source": [
    "def get_best_avg_corr(drugs, ont, dataset, zscore_method):\n",
    "    \n",
    "    best_avg = 0.0\n",
    "    f_min = 0.1\n",
    "    f_max = 0.5\n",
    "    param_list = []\n",
    "    f = f_min\n",
    "    while f <= f_max:\n",
    "        \n",
    "        all_avg_corr = 0.0\n",
    "        for i, drug in enumerate(drugs):\n",
    "            corr_list, avg_corr = get_avg_cv_data_3class(ont, dataset, zscore_method, drug, fraction=f)\n",
    "            all_avg_corr += avg_corr\n",
    "\n",
    "        all_avg_corr /= len(drugs)\n",
    "        if best_avg <= all_avg_corr:\n",
    "            best_avg = all_avg_corr\n",
    "            f_best = f\n",
    "\n",
    "        param_list.append((f, all_avg_corr))\n",
    "        print(f, all_avg_corr)\n",
    "        f += 0.05\n",
    "\n",
    "    create_line_curve([p[0] for p in param_list], [p[1] for p in param_list], 'Cut_off', 'Avg. Correlation', (f_min, f_max), (0.0, 0.3))\n",
    "    return f_best"
   ]
  },
  {
   "cell_type": "code",
   "execution_count": 30,
   "metadata": {},
   "outputs": [],
   "source": [
    "dataset = 'av'\n",
    "zscore_method = 'auc'\n",
    "ont = 'ctg'\n",
    "\n",
    "drugs = list(pd.read_csv('../data/training_files_av/drugname_av.txt', header=None, names=['D'])['D'])\n",
    "#drugs = ['Palbociclib', 'Trametinib']"
   ]
  },
  {
   "cell_type": "code",
   "execution_count": 171,
   "metadata": {},
   "outputs": [
    {
     "name": "stdout",
     "output_type": "stream",
     "text": [
      "Palbociclib [0.41865489432888947, 0.2745123653766092, 0.3670378643164691, 0.30942494573935964, 0.29914426135696326] 0.33375486622365813\n"
     ]
    }
   ],
   "source": [
    "vnn_results_df = pd.DataFrame(index=range(len(drugs)), columns=['Drug', 'Fold_1', 'Fold_2', 'Fold_3', 'Fold_4', 'Fold_5', 'Average'])\n",
    "\n",
    "to_remove = []\n",
    "for i, drug in enumerate(drugs):\n",
    "    \n",
    "    corr_list, avg_corr = get_avg_cv_data(ont, dataset, zscore_method, drug)\n",
    "    if math.isnan(avg_corr):\n",
    "        to_remove.append(drug)\n",
    "        continue\n",
    "    print(drug, corr_list, avg_corr)\n",
    "        \n",
    "drugs = [d for d in drugs if d not in to_remove]\n",
    "\n",
    "for i, drug in enumerate(drugs):\n",
    "    corr_list, avg_corr = get_avg_cv_data(ont, dataset, zscore_method, drug)\n",
    "    vnn_results_df.loc[i]['Drug'] = drug\n",
    "    vnn_results_df.loc[i]['Average'] = avg_corr\n",
    "    for k in range(5):\n",
    "        vnn_results_df.loc[i]['Fold_'+str(k+1)] = corr_list[k]"
   ]
  },
  {
   "cell_type": "code",
   "execution_count": 172,
   "metadata": {},
   "outputs": [
    {
     "name": "stdout",
     "output_type": "stream",
     "text": [
      "Palbociclib [0.6436811007807939, 0.5080680142703883, 0.502886775431312, 0.4877930459471347, 0.5092459178704156] 0.5303349708600089\n"
     ]
    }
   ],
   "source": [
    "vnn_results_3class_df = pd.DataFrame(index=range(len(drugs)), columns=['Drug', 'Fold_1', 'Fold_2', 'Fold_3', 'Fold_4', 'Fold_5', 'Average'])\n",
    "\n",
    "#f_best = get_best_avg_corr(drugs, ont, dataset, zscore_method)\n",
    "f_best=0.16\n",
    "    \n",
    "for i, drug in enumerate(drugs):\n",
    "    corr_list, avg_corr = get_avg_cv_data_3class(ont, dataset, zscore_method, drug, fraction=f_best)\n",
    "    print(drug, corr_list, avg_corr)\n",
    "    \n",
    "    vnn_results_3class_df.loc[i]['Drug'] = drug\n",
    "    vnn_results_3class_df.loc[i]['Average'] = avg_corr\n",
    "    for k in range(5):\n",
    "        vnn_results_3class_df.loc[i]['Fold_'+str(k+1)] = corr_list[k]"
   ]
  },
  {
   "cell_type": "code",
   "execution_count": 173,
   "metadata": {},
   "outputs": [
    {
     "name": "stdout",
     "output_type": "stream",
     "text": [
      "Palbociclib [0.33693495702386156, 0.18424093482244072, 0.30140999962088644, 0.1986653994056488, 0.15819834600784194] 0.2358899273761359\n"
     ]
    }
   ],
   "source": [
    "method = 'elastic_net'\n",
    "\n",
    "elasticnet_df = pd.DataFrame(index=range(len(drugs)), columns=['Drug', 'Fold_1', 'Fold_2', 'Fold_3', 'Fold_4', 'Fold_5', 'Average'])\n",
    "\n",
    "for i, drug in enumerate(drugs):\n",
    "    corr_list, avg_corr = get_avg_cv_data_alternate(method, dataset, drug)\n",
    "    print(drug, corr_list, avg_corr)\n",
    "    \n",
    "    elasticnet_df.loc[i]['Drug'] = drug\n",
    "    elasticnet_df.loc[i]['Average'] = avg_corr\n",
    "    for k in range(5):\n",
    "        elasticnet_df.loc[i]['Fold_'+str(k+1)] = corr_list[k]"
   ]
  },
  {
   "cell_type": "code",
   "execution_count": 176,
   "metadata": {},
   "outputs": [
    {
     "name": "stdout",
     "output_type": "stream",
     "text": [
      "Palbociclib [0.4968346924103942, 0.21326616309820343, 0.402505274512601, 0.2926638798298919, 0.3273336028972307] 0.34652072254966426\n"
     ]
    }
   ],
   "source": [
    "method = 'elastic_net'\n",
    "\n",
    "elasticnet_3class_df = pd.DataFrame(index=range(len(drugs)), columns=['Drug', 'Fold_1', 'Fold_2', 'Fold_3', 'Fold_4', 'Fold_5', 'Average'])\n",
    "\n",
    "for i, drug in enumerate(drugs):\n",
    "    corr_list, avg_corr = get_avg_cv_data_3class_alternate(method, dataset, drug, fraction=f_best)\n",
    "    print(drug, corr_list, avg_corr)\n",
    "    \n",
    "    elasticnet_3class_df.loc[i]['Drug'] = drug\n",
    "    elasticnet_3class_df.loc[i]['Average'] = avg_corr\n",
    "    for k in range(5):\n",
    "        elasticnet_3class_df.loc[i]['Fold_'+str(k+1)] = corr_list[k]"
   ]
  },
  {
   "cell_type": "code",
   "execution_count": 177,
   "metadata": {},
   "outputs": [
    {
     "name": "stdout",
     "output_type": "stream",
     "text": [
      "Palbociclib [0.4470718725267933, 0.27076796787961954, 0.33815568510490224, 0.2921385715398038, 0.21935928634037893] 0.31349867667829956\n"
     ]
    }
   ],
   "source": [
    "method = 'random_forest'\n",
    "\n",
    "randomforest_df = pd.DataFrame(index=range(len(drugs)), columns=['Drug', 'Fold_1', 'Fold_2', 'Fold_3', 'Fold_4', 'Fold_5', 'Average'])\n",
    "\n",
    "for i, drug in enumerate(drugs):\n",
    "    corr_list, avg_corr = get_avg_cv_data_alternate(method, dataset, drug)\n",
    "    print(drug, corr_list, avg_corr)\n",
    "    \n",
    "    randomforest_df.loc[i]['Drug'] = drug\n",
    "    randomforest_df.loc[i]['Average'] = avg_corr\n",
    "    for k in range(5):\n",
    "        randomforest_df.loc[i]['Fold_'+str(k+1)] = corr_list[k]"
   ]
  },
  {
   "cell_type": "code",
   "execution_count": 178,
   "metadata": {},
   "outputs": [
    {
     "name": "stdout",
     "output_type": "stream",
     "text": [
      "Palbociclib [0.6362016799433862, 0.418611079018525, 0.5154250979728986, 0.41293208812671733, 0.3015325516953442] 0.45694049935137426\n"
     ]
    }
   ],
   "source": [
    "method = 'random_forest'\n",
    "\n",
    "randomforest_3class_df = pd.DataFrame(index=range(len(drugs)), columns=['Drug', 'Fold_1', 'Fold_2', 'Fold_3', 'Fold_4', 'Fold_5', 'Average'])\n",
    "\n",
    "for i, drug in enumerate(drugs):\n",
    "    corr_list, avg_corr = get_avg_cv_data_3class_alternate(method, dataset, drug, fraction=f_best)\n",
    "    print(drug, corr_list, avg_corr)\n",
    "    \n",
    "    randomforest_3class_df.loc[i]['Drug'] = drug\n",
    "    randomforest_3class_df.loc[i]['Average'] = avg_corr\n",
    "    for k in range(5):\n",
    "        randomforest_3class_df.loc[i]['Fold_'+str(k+1)] = corr_list[k]"
   ]
  },
  {
   "cell_type": "code",
   "execution_count": 179,
   "metadata": {},
   "outputs": [
    {
     "name": "stdout",
     "output_type": "stream",
     "text": [
      "Palbociclib [0.3571449393987328, 0.23086038776133486, 0.2802732953399213, 0.2542019526725194, 0.1558703913371794] 0.2556701933019376\n"
     ]
    }
   ],
   "source": [
    "method = 'mlp'\n",
    "\n",
    "mlp_df = pd.DataFrame(index=range(len(drugs)), columns=['Drug', 'Fold_1', 'Fold_2', 'Fold_3', 'Fold_4', 'Fold_5', 'Average'])\n",
    "\n",
    "for i, drug in enumerate(drugs):\n",
    "    corr_list, avg_corr = get_avg_cv_data_alternate(method, dataset, drug)\n",
    "    print(drug, corr_list, avg_corr)\n",
    "    \n",
    "    mlp_df.loc[i]['Drug'] = drug\n",
    "    mlp_df.loc[i]['Average'] = avg_corr\n",
    "    for k in range(5):\n",
    "        mlp_df.loc[i]['Fold_'+str(k+1)] = corr_list[k]"
   ]
  },
  {
   "cell_type": "code",
   "execution_count": 180,
   "metadata": {},
   "outputs": [
    {
     "name": "stdout",
     "output_type": "stream",
     "text": [
      "Palbociclib [0.5050455234596232, 0.35034786875886637, 0.4805736042295342, 0.38068342592753923, 0.1757183986865791] 0.3784737642124284\n"
     ]
    }
   ],
   "source": [
    "method = 'mlp'\n",
    "\n",
    "mlp_3class_df = pd.DataFrame(index=range(len(drugs)), columns=['Drug', 'Fold_1', 'Fold_2', 'Fold_3', 'Fold_4', 'Fold_5', 'Average'])\n",
    "\n",
    "for i, drug in enumerate(drugs):\n",
    "    corr_list, avg_corr = get_avg_cv_data_3class_alternate(method, dataset, drug, fraction=f_best)\n",
    "    print(drug, corr_list, avg_corr)\n",
    "    \n",
    "    mlp_3class_df.loc[i]['Drug'] = drug\n",
    "    mlp_3class_df.loc[i]['Average'] = avg_corr\n",
    "    for k in range(5):\n",
    "        mlp_3class_df.loc[i]['Fold_'+str(k+1)] = corr_list[k]"
   ]
  },
  {
   "cell_type": "code",
   "execution_count": 181,
   "metadata": {},
   "outputs": [
    {
     "ename": "ValueError",
     "evalue": "too many values to unpack (expected 4)",
     "output_type": "error",
     "traceback": [
      "\u001b[0;31m---------------------------------------------------------------------------\u001b[0m",
      "\u001b[0;31mValueError\u001b[0m                                Traceback (most recent call last)",
      "\u001b[0;32m/tmp/ipykernel_750510/608579175.py\u001b[0m in \u001b[0;36m<module>\u001b[0;34m\u001b[0m\n\u001b[1;32m      2\u001b[0m \u001b[0;34m\u001b[0m\u001b[0m\n\u001b[1;32m      3\u001b[0m \u001b[0;32mfor\u001b[0m \u001b[0mi\u001b[0m\u001b[0;34m,\u001b[0m \u001b[0mdrug\u001b[0m \u001b[0;32min\u001b[0m \u001b[0menumerate\u001b[0m\u001b[0;34m(\u001b[0m\u001b[0mdrugs\u001b[0m\u001b[0;34m)\u001b[0m\u001b[0;34m:\u001b[0m\u001b[0;34m\u001b[0m\u001b[0;34m\u001b[0m\u001b[0m\n\u001b[0;32m----> 4\u001b[0;31m     \u001b[0mcorr_list\u001b[0m\u001b[0;34m,\u001b[0m \u001b[0mavg_corr\u001b[0m \u001b[0;34m=\u001b[0m \u001b[0mget_avg_cv_data_3class_mut\u001b[0m\u001b[0;34m(\u001b[0m\u001b[0mont\u001b[0m\u001b[0;34m,\u001b[0m \u001b[0mdataset\u001b[0m\u001b[0;34m,\u001b[0m \u001b[0mzscore_method\u001b[0m\u001b[0;34m,\u001b[0m \u001b[0mdrug\u001b[0m\u001b[0;34m,\u001b[0m \u001b[0mfraction\u001b[0m\u001b[0;34m=\u001b[0m\u001b[0mf_best\u001b[0m\u001b[0;34m)\u001b[0m\u001b[0;34m\u001b[0m\u001b[0;34m\u001b[0m\u001b[0m\n\u001b[0m\u001b[1;32m      5\u001b[0m     \u001b[0mprint\u001b[0m\u001b[0;34m(\u001b[0m\u001b[0mdrug\u001b[0m\u001b[0;34m,\u001b[0m \u001b[0mcorr_list\u001b[0m\u001b[0;34m,\u001b[0m \u001b[0mavg_corr\u001b[0m\u001b[0;34m)\u001b[0m\u001b[0;34m\u001b[0m\u001b[0;34m\u001b[0m\u001b[0m\n\u001b[1;32m      6\u001b[0m \u001b[0;34m\u001b[0m\u001b[0m\n",
      "\u001b[0;32m/tmp/ipykernel_750510/3488923972.py\u001b[0m in \u001b[0;36mget_avg_cv_data_3class_mut\u001b[0;34m(ont, dataset, zscore_method, drug, fold_size, fraction)\u001b[0m\n\u001b[1;32m     17\u001b[0m         \u001b[0mtest_df\u001b[0m\u001b[0;34m[\u001b[0m\u001b[0;34m'pred'\u001b[0m\u001b[0;34m]\u001b[0m \u001b[0;34m=\u001b[0m \u001b[0mpred\u001b[0m\u001b[0;34m\u001b[0m\u001b[0;34m\u001b[0m\u001b[0m\n\u001b[1;32m     18\u001b[0m \u001b[0;34m\u001b[0m\u001b[0m\n\u001b[0;32m---> 19\u001b[0;31m         \u001b[0m_\u001b[0m\u001b[0;34m,\u001b[0m \u001b[0m_\u001b[0m\u001b[0;34m,\u001b[0m \u001b[0mpred_sens_df\u001b[0m\u001b[0;34m,\u001b[0m \u001b[0mpred_res_df\u001b[0m \u001b[0;34m=\u001b[0m \u001b[0mget_filtered_data\u001b[0m\u001b[0;34m(\u001b[0m\u001b[0mtest_df\u001b[0m\u001b[0;34m,\u001b[0m \u001b[0mfraction\u001b[0m\u001b[0;34m)\u001b[0m\u001b[0;34m\u001b[0m\u001b[0;34m\u001b[0m\u001b[0m\n\u001b[0m\u001b[1;32m     20\u001b[0m \u001b[0;34m\u001b[0m\u001b[0m\n\u001b[1;32m     21\u001b[0m         \u001b[0mfiltered_df\u001b[0m \u001b[0;34m=\u001b[0m \u001b[0mpd\u001b[0m\u001b[0;34m.\u001b[0m\u001b[0mconcat\u001b[0m\u001b[0;34m(\u001b[0m\u001b[0;34m[\u001b[0m\u001b[0mpred_sens_df\u001b[0m\u001b[0;34m,\u001b[0m \u001b[0mpred_res_df\u001b[0m\u001b[0;34m]\u001b[0m\u001b[0;34m,\u001b[0m \u001b[0maxis\u001b[0m\u001b[0;34m=\u001b[0m\u001b[0;36m0\u001b[0m\u001b[0;34m,\u001b[0m \u001b[0mignore_index\u001b[0m\u001b[0;34m=\u001b[0m\u001b[0;32mTrue\u001b[0m\u001b[0;34m)\u001b[0m\u001b[0;34m\u001b[0m\u001b[0;34m\u001b[0m\u001b[0m\n",
      "\u001b[0;31mValueError\u001b[0m: too many values to unpack (expected 4)"
     ]
    }
   ],
   "source": [
    "mut_vnn_results_3class_df = pd.DataFrame(index=range(len(drugs)), columns=['Drug', 'Fold_1', 'Fold_2', 'Fold_3', 'Fold_4', 'Fold_5', 'Average'])\n",
    "\n",
    "for i, drug in enumerate(drugs):\n",
    "    corr_list, avg_corr = get_avg_cv_data_3class_mut(ont, dataset, zscore_method, drug, fraction=f_best)\n",
    "    print(drug, corr_list, avg_corr)\n",
    "    \n",
    "    mut_vnn_results_3class_df.loc[i]['Drug'] = drug\n",
    "    mut_vnn_results_3class_df.loc[i]['Average'] = avg_corr\n",
    "    for k in range(5):\n",
    "        mut_vnn_results_3class_df.loc[i]['Fold_'+str(k+1)] = corr_list[k]"
   ]
  },
  {
   "cell_type": "code",
   "execution_count": null,
   "metadata": {},
   "outputs": [],
   "source": [
    "vnn_comp_fig = create_scatter_plot(list(mut_vnn_results_3class_df['Average']), list(vnn_results_3class_df['Average']), \n",
    "                                   'Pearson Correlation (Mutation Only)', 'Pearson Correlation (Mutation + Copy Number)')"
   ]
  },
  {
   "cell_type": "code",
   "execution_count": null,
   "metadata": {},
   "outputs": [],
   "source": [
    "vnn_comp_fig.savefig('../plots/vnn_comparison_scatterplot_2022-03-02.svg')"
   ]
  },
  {
   "cell_type": "code",
   "execution_count": null,
   "metadata": {},
   "outputs": [],
   "source": [
    "cnv_vnn_results_3class_df = pd.DataFrame(index=range(len(drugs)), columns=['Drug', 'Fold_1', 'Fold_2', 'Fold_3', 'Fold_4', 'Fold_5', 'Average'])\n",
    "\n",
    "for i, drug in enumerate(drugs):\n",
    "    corr_list, avg_corr = get_avg_cv_data_3class_cnv(ont, dataset, zscore_method, drug, fraction=f_best)\n",
    "    print(drug, corr_list, avg_corr)\n",
    "    \n",
    "    cnv_vnn_results_3class_df.loc[i]['Drug'] = drug\n",
    "    cnv_vnn_results_3class_df.loc[i]['Average'] = avg_corr\n",
    "    for k in range(5):\n",
    "        cnv_vnn_results_3class_df.loc[i]['Fold_'+str(k+1)] = corr_list[k]"
   ]
  },
  {
   "cell_type": "code",
   "execution_count": null,
   "metadata": {},
   "outputs": [],
   "source": [
    "vnn_comp_fig = create_scatter_plot(list(cnv_vnn_results_3class_df['Average']), list(vnn_results_3class_df['Average']), \n",
    "                                   'Pearson Correlation (CNV Only)', 'Pearson Correlation (Mutation + CNV)')"
   ]
  },
  {
   "cell_type": "code",
   "execution_count": null,
   "metadata": {},
   "outputs": [],
   "source": [
    "vnn_comp_fig.savefig('../plots/figure2/cnv_comparison_scatterplot_April_03.svg')"
   ]
  },
  {
   "cell_type": "code",
   "execution_count": null,
   "metadata": {},
   "outputs": [],
   "source": [
    "performance_df = pd.concat([vnn_results_df['Drug'], vnn_results_df['Average'], mlp_df['Average'], \n",
    "                            randomforest_df['Average'], elasticnet_df['Average']], axis=1, ignore_index=True)\n",
    "\n",
    "performance_df.columns = ['Drug', 'DCoDR', 'Multi layer perceptron', 'Random Forest', 'ElasticNet']\n",
    "performance_df.sort_values(by=['DCoDR'], inplace=True, ignore_index=True)"
   ]
  },
  {
   "cell_type": "code",
   "execution_count": null,
   "metadata": {},
   "outputs": [],
   "source": [
    "x_title = 'Pearson Correlation'\n",
    "y_title = 'Drug'\n",
    "all_models_fig = all_models_scatterplot(performance_df, x_title, y_title)"
   ]
  },
  {
   "cell_type": "code",
   "execution_count": null,
   "metadata": {},
   "outputs": [],
   "source": [
    "all_models_fig.savefig('../plots/baseline_performance_comparison_alldata.svg')"
   ]
  },
  {
   "cell_type": "code",
   "execution_count": 182,
   "metadata": {},
   "outputs": [],
   "source": [
    "performance_3class_df = pd.concat([vnn_results_3class_df['Drug'], vnn_results_3class_df['Average'], mlp_3class_df['Average'], \n",
    "                            randomforest_3class_df['Average'], elasticnet_3class_df['Average']], axis=1, ignore_index=True)\n",
    "\n",
    "performance_3class_df.columns = ['Drug', 'DCoDR', 'Multi layer perceptron', 'Random Forest', 'ElasticNet']\n",
    "performance_3class_df.sort_values(by=['DCoDR'], inplace=True, ignore_index=True)"
   ]
  },
  {
   "cell_type": "code",
   "execution_count": null,
   "metadata": {},
   "outputs": [],
   "source": [
    "x_title = 'Pearson Correlation'\n",
    "y_title = 'Drug'\n",
    "all_models_3class_fig = all_models_scatterplot(performance_3class_df, x_title, y_title)"
   ]
  },
  {
   "cell_type": "code",
   "execution_count": null,
   "metadata": {},
   "outputs": [],
   "source": [
    "all_models_3class_fig.savefig('../plots/baseline_performance_comparison.svg')"
   ]
  },
  {
   "cell_type": "code",
   "execution_count": null,
   "metadata": {},
   "outputs": [],
   "source": [
    "performance_3class_df.columns = ['Drug', 'DCoDR', 'Multi layer perceptron', 'Random Forest', 'ElasticNet']\n",
    "\n",
    "mlp = set()\n",
    "rf = set()\n",
    "eln = set()\n",
    "\n",
    "median = np.median(performance_3class_df['DCoDR'])\n",
    "print('median:', median)\n",
    "i = 0\n",
    "for _,row in performance_3class_df.iterrows():\n",
    "    \n",
    "    if row['DCoDR'] < median:\n",
    "        continue\n",
    "    i += 1\n",
    "    if row['DCoDR'] >= row['Multi layer perceptron']:\n",
    "        mlp.add(row['Drug'])\n",
    "        \n",
    "    if row['DCoDR'] >= row['Random Forest']:\n",
    "        rf.add(row['Drug'])\n",
    "        \n",
    "    if row['DCoDR'] >= row['ElasticNet']:\n",
    "        eln.add(row['Drug'])\n",
    "        \n",
    "print('High performing drugs', i)\n",
    "\n",
    "print('mlp', len(mlp))\n",
    "\n",
    "print('rf', len(rf))\n",
    "\n",
    "print('eln', len(eln))\n",
    "\n",
    "print('all', len(mlp.intersection(rf).intersection(eln)))"
   ]
  },
  {
   "cell_type": "code",
   "execution_count": null,
   "metadata": {},
   "outputs": [],
   "source": [
    "boxplot_3class_df = pd.DataFrame({\n",
    "    \"D-CoDR\": vnn_results_3class_df['Average'], \n",
    "    \"ANN\": mlp_3class_df['Average'], \n",
    "    \"RandomForest\": randomforest_3class_df['Average'], \n",
    "    \"ElasticNet\": elasticnet_3class_df['Average']\n",
    "})"
   ]
  },
  {
   "cell_type": "code",
   "execution_count": null,
   "metadata": {},
   "outputs": [],
   "source": [
    "boxplot = get_boxplot(boxplot_3class_df, \"\", \"Pearson Correlation\")"
   ]
  },
  {
   "cell_type": "code",
   "execution_count": null,
   "metadata": {},
   "outputs": [],
   "source": [
    "boxplot.savefig('../plots/figure2/boxplot_comparison_April_03.svg')"
   ]
  },
  {
   "cell_type": "code",
   "execution_count": 192,
   "metadata": {},
   "outputs": [
    {
     "data": {
      "image/png": "[encoded data removed]",
      "text/plain": [
       "<Figure size 648x648 with 1 Axes>"
      ]
     },
     "metadata": {},
     "output_type": "display_data"
    }
   ],
   "source": [
    "data = performance_3class_df.query(\"Drug == 'Palbociclib'\").drop(['Drug'], axis=1)\n",
    "x = data.columns\n",
    "palbo_perf_barchart = create_bar_chart(x, data.iloc[0], 'Models', 'Pearson Correlation')"
   ]
  },
  {
   "cell_type": "code",
   "execution_count": 193,
   "metadata": {},
   "outputs": [],
   "source": [
    "palbo_perf_barchart.savefig('../plots/figure2/palbo_barchart_April_14.svg')"
   ]
  },
  {
   "cell_type": "code",
   "execution_count": null,
   "metadata": {},
   "outputs": [
    {
     "name": "stdout",
     "output_type": "stream",
     "text": [
      "Palbociclib 0.33376558125712025 [0.4188756487484425, 0.2745123653766093, 0.3670378643164689, 0.3092577664871169, 0.2991442613569635]\n",
      "+-----------------+------------------+------------------+\n",
      "|                 |   True Sensitive |   True Resistant |\n",
      "+=================+==================+==================+\n",
      "| Pred. Sensitive |              365 |              168 |\n",
      "+-----------------+------------------+------------------+\n",
      "| Pred. Resistant |              193 |              326 |\n",
      "+-----------------+------------------+------------------+\n",
      "Odds Ratio:  3.669812484579324\n"
     ]
    },
    {
     "data": {
      "image/png": "[encoded data removed]",
      "text/plain": [
       "<Figure size 576x576 with 1 Axes>"
      ]
     },
     "metadata": {},
     "output_type": "display_data"
    }
   ],
   "source": [
    "f_best = 0.16\n",
    "drugs = ['Palbociclib']\n",
    "    \n",
    "for i, drug in enumerate(drugs):\n",
    "    corr_list, avg_corr, cont_table, odds_ratio, waterfall_plot  = get_avg_cv_data_3class(ont, dataset, zscore_method, \n",
    "                                                                                          drug, fraction=f_best, is_show=True)\n",
    "    print(drug, avg_corr, corr_list)\n",
    "    print(tabulate(cont_table, headers=['', 'True Sensitive', 'True Resistant'], tablefmt='grid'))\n",
    "    print('Odds Ratio: ', odds_ratio)\n",
    "\n",
    "#waterfall_plot.savefig('../plots/waterfall_' + drug + '.svg')"
   ]
  },
  {
   "cell_type": "code",
   "execution_count": 165,
   "metadata": {},
   "outputs": [],
   "source": [
    "waterfall_plot.savefig('../plots/figure2/waterfall_' + drug + '_April_09.svg')"
   ]
  },
  {
   "cell_type": "code",
   "execution_count": 128,
   "metadata": {},
   "outputs": [
    {
     "name": "stdout",
     "output_type": "stream",
     "text": [
      "Palbociclib 0.44764999254745313 [0.5745187445158151, 0.2937843944769646, 0.4120719942785632, 0.47330085329716776, 0.48457397616875497]\n",
      "+-----------------+------------------+------------------+\n",
      "|                 |   True Sensitive |   True Resistant |\n",
      "+=================+==================+==================+\n",
      "| Pred. Sensitive |              172 |               92 |\n",
      "+-----------------+------------------+------------------+\n",
      "| Pred. Resistant |               63 |              201 |\n",
      "+-----------------+------------------+------------------+\n",
      "Odds Ratio:  5.9648033126294\n"
     ]
    },
    {
     "data": {
      "image/png": "[encoded data removed]",
      "text/plain": [
       "<Figure size 576x432 with 1 Axes>"
      ]
     },
     "metadata": {},
     "output_type": "display_data"
    }
   ],
   "source": [
    "f_best = 0.16\n",
    "drugs = ['Palbociclib']\n",
    "    \n",
    "for i, drug in enumerate(drugs):\n",
    "    corr_list, avg_corr, cont_table, odds_ratio, waterfall_plot_go  = get_avg_cv_data_3class('ctg_go', dataset, zscore_method, drug, fraction=f_best, is_show=True)\n",
    "    print(drug, avg_corr, corr_list)\n",
    "    print(tabulate(cont_table, headers=['', 'True Sensitive', 'True Resistant'], tablefmt='grid'))\n",
    "    print('Odds Ratio: ', odds_ratio)\n",
    "\n",
    "#waterfall_plot_go.savefig('../plots/waterfall_go_' + drug + '_2022-03-02.svg')"
   ]
  },
  {
   "cell_type": "code",
   "execution_count": null,
   "metadata": {},
   "outputs": [],
   "source": [
    "ont_file = '../data/training_files_av/ontology_ctg_av.txt'\n",
    "ontology = Ontology.from_table(ont_file, clixo_format=True)\n",
    "terms = ontology.term_2_gene.keys()"
   ]
  },
  {
   "cell_type": "code",
   "execution_count": null,
   "metadata": {},
   "outputs": [],
   "source": [
    "drugs = ['Palbociclib']\n",
    "\n",
    "systems = ['NEST:132', 'NEST:85', 'NEST:34', 'NEST:50', 'NEST:65', 'NEST:91']\n",
    "    \n",
    "for i, drug in enumerate(drugs):\n",
    "    for s in systems:\n",
    "        #corr_list, avg_corr  = get_avg_cv_data_3class_system(ont, dataset, zscore_method, drug, s, fraction=0.3)\n",
    "        corr_list, avg_corr, cont_table, odds_ratio, waterfall_fig  = get_avg_cv_data_3class_system(ont, dataset, zscore_method, drug, s)\n",
    "        print(drug, s, avg_corr, corr_list)\n",
    "        #print(tabulate(cont_table, headers=['', 'True Sensitive', 'True Resistant'], tablefmt='grid'))\n",
    "        print('Odds Ratio: ', odds_ratio)\n",
    "\n",
    "#waterfall_plot.savefig('../plots/waterfall_' + drug + '.svg')"
   ]
  },
  {
   "cell_type": "code",
   "execution_count": null,
   "metadata": {},
   "outputs": [],
   "source": [
    "drugs = ['Palbociclib']\n",
    "\n",
    "for i, drug in enumerate(drugs):\n",
    "    for g in ontology.genes:\n",
    "        corr_list, avg_corr  = get_avg_cv_data_3class_gene(ont, dataset, zscore_method, drug, g, fraction=0.3)\n",
    "        print(g, corr_list, avg_corr)\n",
    "\n",
    "#waterfall_plot.savefig('../plots/waterfall_' + drug + '.svg')"
   ]
  },
  {
   "cell_type": "code",
   "execution_count": null,
   "metadata": {},
   "outputs": [],
   "source": []
  }
 ],
 "metadata": {
  "kernelspec": {
   "display_name": "Python 3 (ipykernel)",
   "language": "python",
   "name": "python3"
  },
  "language_info": {
   "codemirror_mode": {
    "name": "ipython",
    "version": 3
   },
   "file_extension": ".py",
   "mimetype": "text/x-python",
   "name": "python",
   "nbconvert_exporter": "python",
   "pygments_lexer": "ipython3",
   "version": "3.7.10"
  }
 },
 "nbformat": 4,
 "nbformat_minor": 4
}
