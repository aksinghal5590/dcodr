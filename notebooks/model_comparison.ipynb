{
 "cells": [
  {
   "cell_type": "code",
   "execution_count": null,
   "metadata": {},
   "outputs": [],
   "source": [
    "import pandas as pd\n",
    "import numpy as np\n",
    "import math\n",
    "import matplotlib.pyplot as plt\n",
    "from scipy import stats\n",
    "import seaborn as sns\n",
    "from sklearn.metrics import r2_score\n",
    "from sklearn.preprocessing import scale\n",
    "from sklearn.preprocessing import robust_scale\n",
    "from sklearn import metrics\n",
    "from tabulate import tabulate\n",
    "\n",
    "pd.options.mode.chained_assignment = None  # default='warn'"
   ]
  },
  {
   "cell_type": "code",
   "execution_count": null,
   "metadata": {},
   "outputs": [],
   "source": [
    "sns.set()\n",
    "sns.set_style(\"white\")\n",
    "sns.set_style(\"ticks\", {\"xtick.major.size\":8, \"ytick.major.size\":8})\n",
    "sns.axes_style(\"whitegrid\")\n",
    "sns.set_palette(\"muted\")\n",
    "sns.color_palette(\"muted\")"
   ]
  },
  {
   "cell_type": "code",
   "execution_count": null,
   "metadata": {},
   "outputs": [],
   "source": [
    "plt.rcParams['svg.fonttype'] = 'none'\n",
    "\n",
    "SMALL_SIZE = 12\n",
    "MEDIUM_SIZE = 16\n",
    "BIGGER_SIZE = 22\n",
    "\n",
    "plt.rc('font', size=SMALL_SIZE)          # controls default text sizes\n",
    "plt.rc('axes', titlesize=SMALL_SIZE)     # fontsize of the axes title\n",
    "plt.rc('axes', labelsize=MEDIUM_SIZE)    # fontsize of the x and y labels\n",
    "plt.rc('xtick', labelsize=SMALL_SIZE)    # fontsize of the tick labels\n",
    "plt.rc('ytick', labelsize=SMALL_SIZE)    # fontsize of the tick labels\n",
    "plt.rc('legend', fontsize=SMALL_SIZE)    # legend fontsize\n",
    "plt.rc('figure', titlesize=BIGGER_SIZE)  # fontsize of the figure title"
   ]
  },
  {
   "cell_type": "code",
   "execution_count": null,
   "metadata": {},
   "outputs": [],
   "source": [
    "#Separating data for each drug/cell\n",
    "\n",
    "def get_pos_map(obj_list, test_df, col):\n",
    "    pos_map = {obj:[] for obj in obj_list}\n",
    "    for i, row in test_df.iterrows():\n",
    "        if row[col] in pos_map:\n",
    "            pos_map[row[col]].append(i)\n",
    "    return pos_map"
   ]
  },
  {
   "cell_type": "code",
   "execution_count": null,
   "metadata": {},
   "outputs": [],
   "source": [
    "#Arrange the obj_list in the descending order of the scores\n",
    "\n",
    "def sort_scores(obj_list, scores):\n",
    "    score_map = {}\n",
    "    for i, obj in enumerate(obj_list):\n",
    "        score_map[obj] = scores[i]\n",
    "    return {obj:sc for obj,sc in sorted(score_map.items(), key=lambda item:item[1], reverse=True)}"
   ]
  },
  {
   "cell_type": "code",
   "execution_count": null,
   "metadata": {},
   "outputs": [],
   "source": [
    "def create_confusion_matrix(sens, res, pred_sens, pred_res):\n",
    "    tp = len([c for c in pred_sens if c in sens])\n",
    "    fn = len([c for c in pred_sens if c in res])\n",
    "    fp = len([c for c in pred_res if c in sens])\n",
    "    tn = len([c for c in pred_res if c in res])\n",
    "    \n",
    "    cont_table = [['Pred. Sensitive', tp, fn],\n",
    "                  ['Pred. Resistant', fp, tn]]\n",
    "    print(tabulate(cont_table, headers=['', 'True Sensitive', 'True Resistant'], tablefmt='grid'))\n",
    "    if fn > 0 and fp > 0:\n",
    "        print('Odds Ratio: ', (tp*tn)/(fn*fp))"
   ]
  },
  {
   "cell_type": "code",
   "execution_count": null,
   "metadata": {},
   "outputs": [],
   "source": [
    "def create_true_auc_waterfall(pred_sens_df, pred_res_df, median_auc, stddev_auc):\n",
    "    \n",
    "    all_data = pd.concat([pred_sens_df, pred_res_df], axis=0, ignore_index=True)    \n",
    "    res_samples = []\n",
    "    sens_samples = []\n",
    "    for _,row in all_data.iterrows():\n",
    "        temp = pd.DataFrame([[row['cell_line'], row['auc']]], columns=['cell_line', 'auc'])\n",
    "\n",
    "        if row['auc'] <= (median_auc - stddev_auc):\n",
    "            sens_samples.append(temp)\n",
    "            \n",
    "        elif row['auc'] >= (median_auc + stddev_auc):\n",
    "            res_samples.append(temp)\n",
    "    \n",
    "    res_df = pd.concat(res_samples, axis=0, ignore_index=True)\n",
    "    sens_df = pd.concat(sens_samples, axis=0, ignore_index=True)\n",
    "    \n",
    "    create_confusion_matrix(list(sens_df['cell_line']), list(res_df['cell_line']), list(pred_sens_df['cell_line']), list(pred_res_df['cell_line']))\n",
    "    \n",
    "    fig, ax = plt.subplots(figsize=(8, 8))\n",
    "    \n",
    "    data_list = []\n",
    "    all_data.sort_values(by='auc', inplace=True, ignore_index=True, ascending=False)\n",
    "    \n",
    "    for _,row in all_data.iterrows():\n",
    "        cell_name = str(row['cell_line'])\n",
    "        \n",
    "        if cell_name not in list(sens_df['cell_line']) and cell_name not in list(res_df['cell_line']):\n",
    "            continue\n",
    "            \n",
    "        if cell_name in list(pred_sens_df['cell_line']):\n",
    "            data_list.append((cell_name, row['auc'], 'blue'))\n",
    "            \n",
    "        elif cell_name in list(pred_res_df['cell_line']):\n",
    "            data_list.append((cell_name, row['auc'], 'red'))\n",
    "\n",
    "    ax.bar([d[0] for d in data_list], [d[1] for d in data_list], color=[d[2] for d in data_list], width=1, edgecolor='none')\n",
    "    ax.set_xticks([])\n",
    "    ax.set_ylim((0, np.max(all_data['auc']) + 0.02))\n",
    "    ax.set_xlabel('Cell lines')\n",
    "    ax.set_ylabel('True AUC')\n",
    "    plt.show()\n",
    "    return fig"
   ]
  },
  {
   "cell_type": "code",
   "execution_count": null,
   "metadata": {},
   "outputs": [],
   "source": [
    "def plot_drug_performance(drug_corr_map, cut_off):\n",
    "    fig, ax = plt.subplots(figsize=(8, 8))\n",
    "    x_red = []\n",
    "    y_red = []\n",
    "    x_blue = []\n",
    "    y_blue = []\n",
    "    for d in drug_corr_map.keys():\n",
    "        if drug_corr_map[d] >= cut_off:\n",
    "            x_red.append(d)\n",
    "            y_red.append(drug_corr_map[d])\n",
    "        else:\n",
    "            x_blue.append(d)\n",
    "            y_blue.append(drug_corr_map[d])\n",
    "    \n",
    "    ratio = float(len(x_red))/float(len(drug_corr_map.keys()))\n",
    "    print('Red ratio = ' + str(ratio))\n",
    "    ax.bar(x_red, y_red, color='red', width=1.0, alpha=0.9)\n",
    "    ax.bar(x_blue, y_blue, color='blue', width=1.0, alpha=0.9)\n",
    "    ax.set_xticks([])\n",
    "    ax.set_xlabel('Drugs')\n",
    "    ax.set_ylabel('Performance\\nSpearman ρ (Predicted vs. Actual)')\n",
    "    plt.show()\n",
    "    return fig"
   ]
  },
  {
   "cell_type": "code",
   "execution_count": null,
   "metadata": {},
   "outputs": [],
   "source": [
    "def create_drug_performance_plot(drugs, drug_corr_list, top=False, cut_off=0.1):\n",
    "    drug_corr_map = sort_scores(drugs, drug_corr_list)\n",
    "    if top:\n",
    "        fig_drug_perf = plot_top_drug_performance(drug_corr_map, cut_off)\n",
    "    else:\n",
    "        fig_drug_perf = plot_drug_performance(drug_corr_map, cut_off)\n",
    "        print('Median spearman rho:', np.median(list(drug_corr_map.values())))\n",
    "    return fig_drug_perf"
   ]
  },
  {
   "cell_type": "code",
   "execution_count": null,
   "metadata": {},
   "outputs": [],
   "source": [
    "def create_scatter_plot(X, Y, x_title, y_title):\n",
    "    \n",
    "    idx_del = []\n",
    "    for i, x in enumerate(X):\n",
    "        if math.isnan(x):\n",
    "            idx_del.append(i)\n",
    "    for i, y in enumerate(Y):\n",
    "        if math.isnan(y):\n",
    "            idx_del.append(i)\n",
    "    X = [x for i, x in enumerate(X) if i not in idx_del]\n",
    "    Y = [y for i, y in enumerate(Y) if i not in idx_del]\n",
    "    \n",
    "    scatter_df = pd.DataFrame({x_title: X, y_title: Y})\n",
    "    \n",
    "    fig, ax = plt.subplots(figsize=(6,6))\n",
    "    sns.scatterplot(data=scatter_df, x=x_title, y=y_title, s=35, ax=ax)\n",
    "    \n",
    "    ax.set_xlabel(x_title)\n",
    "    ax.set_ylabel(y_title)\n",
    "    lims = [\n",
    "        np.min([ax.get_xlim(), ax.get_ylim()]),  # min of both axes\n",
    "        np.max([ax.get_xlim(), ax.get_ylim()]),  # max of both axes\n",
    "    ]\n",
    "    plt.plot(lims, lims, 'k--', alpha=0.75, zorder=0)\n",
    "    ax.set_aspect('equal')\n",
    "    ax.set_xlim(lims)\n",
    "    ax.set_ylim(lims)\n",
    "    ax.spines['right'].set_visible(False)\n",
    "    ax.spines['top'].set_visible(False)\n",
    "    ax.yaxis.set_ticks_position('left')\n",
    "    ax.xaxis.set_ticks_position('bottom')\n",
    "    \n",
    "    print('t-test p-value:', stats.ttest_ind(X, Y)[1])\n",
    "    \n",
    "    return fig"
   ]
  },
  {
   "cell_type": "code",
   "execution_count": null,
   "metadata": {},
   "outputs": [],
   "source": [
    "def get_boxplot(df, x_title, y_title):\n",
    "    \n",
    "    fig, ax = plt.subplots(figsize=(9,9))\n",
    "    ax.boxplot(df, showfliers=False, widths=0.5, patch_artist=True)\n",
    "    ax.set_xticklabels(list(df.columns))\n",
    "    ax.set_xlabel(x_title)\n",
    "    ax.set_ylabel(y_title)\n",
    "    \n",
    "    plt.show()\n",
    "    \n",
    "    return fig"
   ]
  },
  {
   "cell_type": "code",
   "execution_count": null,
   "metadata": {},
   "outputs": [],
   "source": [
    "def create_bar_chart(x, data, x_title, y_title):\n",
    "    fig = plt.figure(figsize=(9, 9))\n",
    "    ax = fig.add_subplot(111)\n",
    "    x_pos = [i for i, _ in enumerate(x)]\n",
    "    ax.bar(x_pos, data, align='center', alpha=1.0)\n",
    "    plt.xticks(x_pos, x)\n",
    "    ax.set_xlabel(x_title)\n",
    "    ax.set_ylabel(y_title)\n",
    "    plt.show()\n",
    "    return fig"
   ]
  },
  {
   "cell_type": "code",
   "execution_count": null,
   "metadata": {},
   "outputs": [],
   "source": [
    "def get_violinplot(df, x_title, y_title):\n",
    "    \n",
    "    fig, ax = plt.subplots(figsize=(6,6))\n",
    "    ax.violinplot(df, showmedians=True)\n",
    "    ax.set_xticklabels(list(df.columns), rotation=45)\n",
    "    ax.set_xlabel(x_title)\n",
    "    ax.set_ylabel(y_title)\n",
    "    \n",
    "    plt.show()\n",
    "    \n",
    "    return fig"
   ]
  },
  {
   "cell_type": "code",
   "execution_count": null,
   "metadata": {},
   "outputs": [],
   "source": [
    "def create_line_curve(X, Y, x_title, y_title, x_lim, y_lim):\n",
    "    fig = plt.figure(figsize=(5, 5))\n",
    "    ax = fig.add_subplot(111)\n",
    "    ax.plot(X, Y)\n",
    "    ax.grid(False)\n",
    "    ax.set_xlim(x_lim)\n",
    "    ax.set_ylim(y_lim)\n",
    "    ax.set_xlabel(x_title)\n",
    "    ax.set_ylabel(y_title)\n",
    "    plt.show()\n",
    "    return fig"
   ]
  },
  {
   "cell_type": "code",
   "execution_count": null,
   "metadata": {},
   "outputs": [],
   "source": [
    "def all_models_scatterplot(performance_df, x_title, y_title):\n",
    "    \n",
    "    fig, ax = plt.subplots(figsize=(6, 14))\n",
    "    \n",
    "    performance_df.plot(kind='scatter', x='Random Forest', y='Drug', color='DarkGreen', label='Random Forest', ax=ax)\n",
    "    performance_df.plot(kind='scatter', x='Multi layer perceptron', y='Drug', color='Green', label='Multi layer perceptron', ax=ax)\n",
    "    performance_df.plot(kind='scatter', x='ElasticNet', y='Drug', color='LightGreen', label='ElasticNet', ax=ax)\n",
    "    performance_df.plot(kind='scatter', x='DCoDR', y='Drug', color='red', label='DCoDR', s=30, ax=ax)\n",
    "\n",
    "    ax.set_xlabel(x_title)\n",
    "    ax.set_ylabel(y_title)\n",
    "    ax.spines['right'].set_visible(False)\n",
    "    ax.spines['top'].set_visible(False)\n",
    "    ax.yaxis.set_ticks_position('left')\n",
    "    ax.xaxis.set_ticks_position('bottom')\n",
    "    ax.legend(loc='center left', bbox_to_anchor=(1, 0.5))\n",
    "    \n",
    "    return fig"
   ]
  },
  {
   "cell_type": "code",
   "execution_count": null,
   "metadata": {},
   "outputs": [],
   "source": [
    "def calc_std_vals(df, zscore_method):\n",
    "    std_df = pd.DataFrame(columns=['smiles', 'center', 'scale'])\n",
    "    std_list = []\n",
    "\n",
    "    if zscore_method == 'zscore':\n",
    "        for name, group in df.groupby(['smiles'])['auc']:\n",
    "            center = group.mean()\n",
    "            scale = group.std()\n",
    "            if math.isnan(scale) or scale == 0.0:\n",
    "                scale = 1.0\n",
    "            temp = pd.DataFrame([[name, center, scale]], columns=std_df.columns)\n",
    "            std_list.append(temp)\n",
    "\n",
    "    elif zscore_method == 'robustz':\n",
    "        for name, group in df.groupby(['smiles'])['auc']:\n",
    "            center = group.median()\n",
    "            scale = group.quantile(0.75) - group.quantile(0.25)\n",
    "            if math.isnan(scale) or scale == 0.0:\n",
    "                scale = 1.0\n",
    "            temp = pd.DataFrame([[name, center, scale]], columns=std_df.columns)\n",
    "            std_list.append(temp)\n",
    "    else:\n",
    "        for name, group in df.groupby(['smiles'])['auc']:\n",
    "            temp = pd.DataFrame([[name, 0.0, 1.0]], columns=std_df.columns)\n",
    "            std_list.append(temp)\n",
    "\n",
    "    std_df = pd.concat(std_list, ignore_index=True)\n",
    "    return std_df"
   ]
  },
  {
   "cell_type": "code",
   "execution_count": null,
   "metadata": {},
   "outputs": [],
   "source": [
    "def standardize_data(df, std_df, zscore_method):\n",
    "    merged = pd.merge(df, std_df, how=\"left\", on=['smiles'], sort=False)\n",
    "    merged[zscore_method] = (merged['auc'] - merged['center']) / merged['scale']\n",
    "    merged = merged[['cell_line', 'smiles', zscore_method]]\n",
    "    return merged"
   ]
  },
  {
   "cell_type": "code",
   "execution_count": null,
   "metadata": {},
   "outputs": [],
   "source": [
    "def normalize_auc(train_std_df, test_df, zscore_method):\n",
    "\n",
    "    test_std_df = calc_std_vals(test_df, zscore_method)\n",
    "    for i, row in test_std_df.iterrows():\n",
    "        smiles = row['smiles']\n",
    "        train_entry = train_std_df.query('smiles == @smiles')\n",
    "        if not train_entry.empty:\n",
    "            test_std_df.loc[i, 'center'] = float(train_entry['center'])\n",
    "            test_std_df.loc[i, 'scale'] = float(train_entry['scale'])\n",
    "            \n",
    "    test_df = standardize_data(test_df, test_std_df, zscore_method)\n",
    "    return test_df"
   ]
  },
  {
   "cell_type": "code",
   "execution_count": null,
   "metadata": {},
   "outputs": [],
   "source": [
    "def print_best_params(modeldir):\n",
    "    log_file = modeldir + \"/train.log\"\n",
    "    with open(log_file, 'r') as fi:\n",
    "        logs = fi.readlines()\n",
    "    for i, log in enumerate(logs):\n",
    "        if 'Params:' in log:\n",
    "            print(logs[i+1].strip())\n",
    "            print(logs[i+2].strip())\n",
    "            break"
   ]
  },
  {
   "cell_type": "code",
   "execution_count": null,
   "metadata": {},
   "outputs": [],
   "source": [
    "def get_avg_cv_data(ont, dataset, zscore_method, drug, fold_size=5):\n",
    "    \n",
    "    avg_corr = 0.0\n",
    "    fold_corr_list = []\n",
    "    for i in range(1, fold_size+1):\n",
    "        \n",
    "        test_file = '../data/training_files_av/' + str(i) + '_test_' + dataset + '_' + drug + '.txt'\n",
    "        test_df = pd.read_csv(test_file, sep='\\t', header=None, names=['cell_line', 'smiles', 'auc', 'dataset'])\n",
    "        \n",
    "        modeldir = '../models/model_' + ont + '_' + dataset + '_' + drug + '_' + zscore_method + '_' + str(i) \n",
    "        pred_file = modeldir + '/predict.txt'\n",
    "        try:\n",
    "            pred = np.loadtxt(pred_file)\n",
    "        except:\n",
    "            continue\n",
    "        \n",
    "        corr = stats.pearsonr(test_df['auc'], pred)[0]\n",
    "        fold_corr_list.append(corr)\n",
    "        avg_corr += corr\n",
    "        \n",
    "    avg_corr /= fold_size\n",
    "    return fold_corr_list, avg_corr"
   ]
  },
  {
   "cell_type": "code",
   "execution_count": null,
   "metadata": {},
   "outputs": [],
   "source": [
    "def get_filtered_data(test_df, fraction):\n",
    "    \n",
    "    fig = 0\n",
    "    \n",
    "    stddev_auc = np.std(np.array(test_df['auc']))\n",
    "    median_auc = np.median(np.array(test_df['auc']))\n",
    "\n",
    "    test_df.sort_values(by='pred', inplace=True, ignore_index=True)\n",
    "    \n",
    "    cell_name_map = dict()\n",
    "    for i, row in test_df.iterrows():\n",
    "        cell_line_name = str(row['cell_line'])\n",
    "        if cell_line_name not in cell_name_map:\n",
    "            cell_name_map[cell_line_name] = 1\n",
    "        else:\n",
    "            cell_name_map[cell_line_name] += 1\n",
    "        test_df.at[i, 'cell_line'] = cell_line_name + str(cell_name_map[cell_line_name])\n",
    "    \n",
    "    data_size = len(test_df)\n",
    "    class_size = int(data_size * fraction)\n",
    "    \n",
    "    pred_sens_df = test_df.iloc[ : class_size]\n",
    "    pred_res_df = test_df.iloc[data_size - class_size : data_size]\n",
    "    filtered_df = pd.concat([pred_sens_df, pred_res_df], axis=0, ignore_index=True)\n",
    "    \n",
    "    fig = create_true_auc_waterfall(pred_sens_df, pred_res_df, median_auc, stddev_auc)\n",
    "    \n",
    "    return filtered_df, fig"
   ]
  },
  {
   "cell_type": "code",
   "execution_count": null,
   "metadata": {},
   "outputs": [],
   "source": [
    "def get_avg_cv_data_3class(ont, dataset, zscore_method, drug, fold_size=5, fraction=0.16):\n",
    "    \n",
    "    all_test = []\n",
    "    avg_corr = 0.0\n",
    "    fold_corr_list = []\n",
    "    for i in range(1, fold_size+1):\n",
    "        \n",
    "        test_file = '../data/training_files_av/' + str(i) + '_test_' + dataset + '_' + drug + '.txt'\n",
    "        test_df = pd.read_csv(test_file, sep='\\t', header=None, names=['cell_line', 'smiles', 'auc', 'dataset'])\n",
    "        \n",
    "        modeldir = '../models/model_' + ont + '_' + dataset + '_' + drug + '_' + zscore_method + '_' + str(i) \n",
    "        pred_file = modeldir + '/predict.txt'\n",
    "        try:\n",
    "            pred = np.loadtxt(pred_file)\n",
    "        except:\n",
    "            continue\n",
    "        \n",
    "        test_df['pred'] = pred\n",
    "        filtered_df, _ = get_filtered_data(test_df, fraction)\n",
    "        \n",
    "        corr = stats.pearsonr(filtered_df['auc'], filtered_df['pred'])[0]\n",
    "        fold_corr_list.append(corr)\n",
    "        avg_corr += corr\n",
    "        \n",
    "        all_test.append(test_df)\n",
    "        \n",
    "    all_test_df = pd.concat(all_test, axis=0, ignore_index=True)\n",
    "    filtered_df, waterfall_plot = get_filtered_data(all_test_df, fraction)\n",
    "        \n",
    "    avg_corr /= fold_size\n",
    "    return fold_corr_list, avg_corr, waterfall_plot"
   ]
  },
  {
   "cell_type": "code",
   "execution_count": null,
   "metadata": {},
   "outputs": [],
   "source": [
    "def get_avg_cv_data_3class_alternate(method, dataset, drug, fold_size=5, fraction=0.16):\n",
    "    \n",
    "    avg_corr = 0.0\n",
    "    fold_corr_list = []\n",
    "    for i in range(1, fold_size+1):\n",
    "        \n",
    "        test_file = '../data/training_files_av/' + str(i) + '_test_' + dataset + '_' + drug + '.txt'\n",
    "        test_df = pd.read_csv(test_file, sep='\\t', header=None, names=['cell_line', 'smiles', 'auc', 'dataset'])\n",
    "        \n",
    "        modeldir = '../models/' + method\n",
    "        pred_file = modeldir + '/predict' + '_' + dataset + '_' + drug + '_' + str(i) + '.txt'\n",
    "        try:\n",
    "            pred = np.loadtxt(pred_file)\n",
    "        except:\n",
    "            continue\n",
    "        \n",
    "        test_df['pred'] = pred\n",
    "        filtered_df, _ = get_filtered_data(test_df, fraction)\n",
    "        \n",
    "        corr = stats.pearsonr(filtered_df['auc'], filtered_df['pred'])[0]\n",
    "        if math.isnan(corr):\n",
    "            corr = 0.0\n",
    "        fold_corr_list.append(corr)\n",
    "        avg_corr += corr\n",
    "        \n",
    "    avg_corr /= fold_size\n",
    "    return fold_corr_list, avg_corr"
   ]
  },
  {
   "cell_type": "code",
   "execution_count": null,
   "metadata": {},
   "outputs": [],
   "source": [
    "def get_avg_cv_data_3class_mut(ont, dataset, zscore_method, drug, fold_size=5, fraction=0.16):\n",
    "    \n",
    "    all_test = []\n",
    "    avg_corr = 0.0\n",
    "    fold_corr_list = []\n",
    "    for i in range(1, fold_size+1):\n",
    "        \n",
    "        test_file = '../data/training_files_av/' + str(i) + '_test_' + dataset + '_' + drug + '.txt'\n",
    "        test_df = pd.read_csv(test_file, sep='\\t', header=None, names=['cell_line', 'smiles', 'auc', 'dataset'])\n",
    "        \n",
    "        modeldir = '../../nest_drugcell/models/model_' + ont + '_' + dataset + '_' + drug + '_' + zscore_method + '_' + str(i) \n",
    "        pred_file = modeldir + '/predict.txt'\n",
    "        try:\n",
    "            pred = np.loadtxt(pred_file)\n",
    "        except:\n",
    "            continue\n",
    "        \n",
    "        test_df['pred'] = pred\n",
    "        filtered_df, _ = get_filtered_data(test_df, fraction)\n",
    "        \n",
    "        corr = stats.pearsonr(filtered_df['auc'], filtered_df['pred'])[0]\n",
    "        fold_corr_list.append(corr)\n",
    "        avg_corr += corr\n",
    "        \n",
    "        all_test.append(test_df)\n",
    "        \n",
    "    all_test_df = pd.concat(all_test, axis=0, ignore_index=True)\n",
    "    filtered_df, _ = get_filtered_data(all_test_df, fraction)\n",
    "        \n",
    "    avg_corr /= fold_size\n",
    "    return fold_corr_list, avg_corr"
   ]
  },
  {
   "cell_type": "code",
   "execution_count": null,
   "metadata": {},
   "outputs": [],
   "source": [
    "def get_best_avg_corr(drugs, ont, dataset, zscore_method):\n",
    "    \n",
    "    best_avg = 0.0\n",
    "    f_min = 0.1\n",
    "    f_max = 0.5\n",
    "    param_list = []\n",
    "    f = f_min\n",
    "    while f <= f_max:\n",
    "        \n",
    "        all_avg_corr = 0.0\n",
    "        for i, drug in enumerate(drugs):\n",
    "            corr_list, avg_corr = get_avg_cv_data_3class(ont, dataset, zscore_method, drug, fraction=f)\n",
    "            all_avg_corr += avg_corr\n",
    "\n",
    "        all_avg_corr /= len(drugs)\n",
    "        if best_avg <= all_avg_corr:\n",
    "            best_avg = all_avg_corr\n",
    "            f_best = f\n",
    "\n",
    "        param_list.append((f, all_avg_corr))\n",
    "        print(f, all_avg_corr)\n",
    "        f += 0.05\n",
    "\n",
    "    create_line_curve([p[0] for p in param_list], [p[1] for p in param_list], 'Cut_off', 'Avg. Correlation', (f_min, f_max), (0.0, 0.3))\n",
    "    return f_best"
   ]
  },
  {
   "cell_type": "code",
   "execution_count": null,
   "metadata": {},
   "outputs": [],
   "source": [
    "dataset = 'av'\n",
    "zscore_method = 'auc'\n",
    "ont = 'ctg'\n",
    "\n",
    "drugs = list(pd.read_csv('../data/training_files_av/drugname_av.txt', header=None, names=['D'])['D'])\n",
    "#drugs = ['Palbociclib', 'Trametinib']"
   ]
  },
  {
   "cell_type": "code",
   "execution_count": null,
   "metadata": {},
   "outputs": [],
   "source": [
    "vnn_results_df = pd.DataFrame(index=range(len(drugs)), columns=['Drug', 'Fold_1', 'Fold_2', 'Fold_3', 'Fold_4', 'Fold_5', 'Average'])\n",
    "\n",
    "to_remove = []\n",
    "for i, drug in enumerate(drugs):\n",
    "    \n",
    "    corr_list, avg_corr = get_avg_cv_data(ont, dataset, zscore_method, drug)\n",
    "    if math.isnan(avg_corr):\n",
    "        to_remove.append(drug)\n",
    "        continue\n",
    "    print(drug, corr_list, avg_corr)\n",
    "    \n",
    "    vnn_results_df.loc[i]['Drug'] = drug\n",
    "    vnn_results_df.loc[i]['Average'] = avg_corr\n",
    "    for k in range(5):\n",
    "        vnn_results_df.loc[i]['Fold_'+str(k+1)] = corr_list[k]\n",
    "        \n",
    "drugs = [d for d in drugs if d not in to_remove]"
   ]
  },
  {
   "cell_type": "code",
   "execution_count": null,
   "metadata": {},
   "outputs": [],
   "source": [
    "vnn_results_3class_df = pd.DataFrame(index=range(len(drugs)), columns=['Drug', 'Fold_1', 'Fold_2', 'Fold_3', 'Fold_4', 'Fold_5', 'Average'])\n",
    "\n",
    "#f_best = get_best_avg_corr(drugs, ont, dataset, zscore_method)\n",
    "f_best=0.16\n",
    "    \n",
    "for i, drug in enumerate(drugs):\n",
    "    corr_list, avg_corr, _ = get_avg_cv_data_3class(ont, dataset, zscore_method, drug, fraction=f_best)\n",
    "    print(drug, corr_list, avg_corr)\n",
    "    \n",
    "    vnn_results_3class_df.loc[i]['Drug'] = drug\n",
    "    vnn_results_3class_df.loc[i]['Average'] = avg_corr\n",
    "    for k in range(5):\n",
    "        vnn_results_3class_df.loc[i]['Fold_'+str(k+1)] = corr_list[k]"
   ]
  },
  {
   "cell_type": "code",
   "execution_count": null,
   "metadata": {},
   "outputs": [],
   "source": [
    "method = 'elastic_net'\n",
    "\n",
    "elasticnet_df = pd.DataFrame(index=range(len(drugs)), columns=['Drug', 'Fold_1', 'Fold_2', 'Fold_3', 'Fold_4', 'Fold_5', 'Average'])\n",
    "\n",
    "for i, drug in enumerate(drugs):\n",
    "    corr_list, avg_corr = get_avg_cv_data_3class_alternate(method, dataset, drug, fraction=f_best)\n",
    "    print(drug, corr_list, avg_corr)\n",
    "    \n",
    "    elasticnet_df.loc[i]['Drug'] = drug\n",
    "    elasticnet_df.loc[i]['Average'] = avg_corr\n",
    "    for k in range(5):\n",
    "        elasticnet_df.loc[i]['Fold_'+str(k+1)] = corr_list[k]"
   ]
  },
  {
   "cell_type": "code",
   "execution_count": null,
   "metadata": {},
   "outputs": [],
   "source": [
    "vnn_en_fig = create_scatter_plot(list(vnn_results_3class_df['Average']), list(elasticnet_df['Average']), 'D-CoDR', 'ElasticNet')"
   ]
  },
  {
   "cell_type": "code",
   "execution_count": null,
   "metadata": {},
   "outputs": [],
   "source": [
    "method = 'random_forest'\n",
    "\n",
    "randomforest_df = pd.DataFrame(index=range(len(drugs)), columns=['Drug', 'Fold_1', 'Fold_2', 'Fold_3', 'Fold_4', 'Fold_5', 'Average'])\n",
    "\n",
    "for i, drug in enumerate(drugs):\n",
    "    corr_list, avg_corr = get_avg_cv_data_3class_alternate(method, dataset, drug, fraction=f_best)\n",
    "    print(drug, corr_list, avg_corr)\n",
    "    \n",
    "    randomforest_df.loc[i]['Drug'] = drug\n",
    "    randomforest_df.loc[i]['Average'] = avg_corr\n",
    "    for k in range(5):\n",
    "        randomforest_df.loc[i]['Fold_'+str(k+1)] = corr_list[k]"
   ]
  },
  {
   "cell_type": "code",
   "execution_count": null,
   "metadata": {},
   "outputs": [],
   "source": [
    "vnn_rf_fig = create_scatter_plot(list(vnn_results_3class_df['Average']), list(randomforest_df['Average']), 'D-CoDR', 'Random Forest')"
   ]
  },
  {
   "cell_type": "code",
   "execution_count": null,
   "metadata": {},
   "outputs": [],
   "source": [
    "method = 'mlp'\n",
    "\n",
    "mlp_df = pd.DataFrame(index=range(len(drugs)), columns=['Drug', 'Fold_1', 'Fold_2', 'Fold_3', 'Fold_4', 'Fold_5', 'Average'])\n",
    "\n",
    "for i, drug in enumerate(drugs):\n",
    "    corr_list, avg_corr = get_avg_cv_data_3class_alternate(method, dataset, drug, fraction=f_best)\n",
    "    print(drug, corr_list, avg_corr)\n",
    "    \n",
    "    mlp_df.loc[i]['Drug'] = drug\n",
    "    mlp_df.loc[i]['Average'] = avg_corr\n",
    "    for k in range(5):\n",
    "        mlp_df.loc[i]['Fold_'+str(k+1)] = corr_list[k]"
   ]
  },
  {
   "cell_type": "code",
   "execution_count": null,
   "metadata": {},
   "outputs": [],
   "source": [
    "vnn_mlp_fig = create_scatter_plot(list(vnn_results_3class_df['Average']), list(mlp_df['Average']), 'D-CoDR', 'Multi-layer Perceptron')"
   ]
  },
  {
   "cell_type": "code",
   "execution_count": null,
   "metadata": {},
   "outputs": [],
   "source": [
    "mut_vnn_results_3class_df = pd.DataFrame(index=range(len(drugs)), columns=['Drug', 'Fold_1', 'Fold_2', 'Fold_3', 'Fold_4', 'Fold_5', 'Average'])\n",
    "\n",
    "for i, drug in enumerate(drugs):\n",
    "    corr_list, avg_corr = get_avg_cv_data_3class_mut(ont, dataset, zscore_method, drug, fraction=f_best)\n",
    "    print(drug, corr_list, avg_corr)\n",
    "    \n",
    "    mut_vnn_results_3class_df.loc[i]['Drug'] = drug\n",
    "    mut_vnn_results_3class_df.loc[i]['Average'] = avg_corr\n",
    "    for k in range(5):\n",
    "        mut_vnn_results_3class_df.loc[i]['Fold_'+str(k+1)] = corr_list[k]"
   ]
  },
  {
   "cell_type": "code",
   "execution_count": null,
   "metadata": {},
   "outputs": [],
   "source": [
    "vnn_comp_fig = create_scatter_plot(list(mut_vnn_results_3class_df['Average']), list(vnn_results_3class_df['Average']), \n",
    "                                   'Pearson Correlation (Mutation Only)', 'Pearson Correlation (Mutation + Copy Number)')"
   ]
  },
  {
   "cell_type": "code",
   "execution_count": null,
   "metadata": {},
   "outputs": [],
   "source": [
    "#vnn_en_fig.savefig('../plots/elasticnet_scatterplot_2022-02-26.svg')\n",
    "#vnn_rf_fig.savefig('../plots/randomforest_scatterplot_2022-02-26.svg')\n",
    "#vnn_mlp_fig.savefig('../plots/mlp_scatterplot_2022-02-26.svg')\n",
    "vnn_comp_fig.savefig('../plots/vnn_comparison_scatterplot_2022-03-02.svg')"
   ]
  },
  {
   "cell_type": "code",
   "execution_count": null,
   "metadata": {},
   "outputs": [],
   "source": [
    "performance_df = pd.concat([vnn_results_3class_df['Drug'], vnn_results_3class_df['Average'], mlp_df['Average'], \n",
    "                            randomforest_df['Average'], elasticnet_df['Average']], axis=1, ignore_index=True)\n",
    "\n",
    "performance_df.columns = ['Drug', 'DCoDR', 'Multi layer perceptron', 'Random Forest', 'ElasticNet']\n",
    "performance_df.sort_values(by=['DCoDR'], inplace=True, ignore_index=True)"
   ]
  },
  {
   "cell_type": "code",
   "execution_count": null,
   "metadata": {},
   "outputs": [],
   "source": [
    "x_title = 'Pearson Correlation'\n",
    "y_title = 'Drug'\n",
    "all_models_fig = all_models_scatterplot(performance_df, x_title, y_title)"
   ]
  },
  {
   "cell_type": "code",
   "execution_count": null,
   "metadata": {},
   "outputs": [],
   "source": [
    "all_models_fig.savefig('../plots/baseline_performance_comparison_2022-03-02.svg')"
   ]
  },
  {
   "cell_type": "code",
   "execution_count": null,
   "metadata": {},
   "outputs": [],
   "source": [
    "boxplot_df = pd.DataFrame({\n",
    "    \"D-CoDR\": vnn_results_3class_df['Average'], \n",
    "    \"ANN\": mlp_df['Average'], \n",
    "    \"RandomForest\": randomforest_df['Average'], \n",
    "    \"ElasticNet\": elasticnet_df['Average']\n",
    "})"
   ]
  },
  {
   "cell_type": "code",
   "execution_count": null,
   "metadata": {},
   "outputs": [],
   "source": [
    "boxplot = get_boxplot(boxplot_df, \"\", \"Pearson Correlation\")"
   ]
  },
  {
   "cell_type": "code",
   "execution_count": null,
   "metadata": {},
   "outputs": [],
   "source": [
    "boxplot.savefig('../plots/boxplot_comparison_2022-02-28.svg')"
   ]
  },
  {
   "cell_type": "code",
   "execution_count": null,
   "metadata": {},
   "outputs": [],
   "source": [
    "f_best = 0.16\n",
    "drugs = ['Palbociclib']\n",
    "    \n",
    "for i, drug in enumerate(drugs):\n",
    "    corr_list, avg_corr, waterfall_plot  = get_avg_cv_data_3class(ont, dataset, zscore_method, drug, fraction=f_best)\n",
    "    print(drug, avg_corr, corr_list)\n",
    "\n",
    "waterfall_plot.savefig('../plots/waterfall_' + drug + '_2022-03-02.svg')"
   ]
  },
  {
   "cell_type": "code",
   "execution_count": null,
   "metadata": {},
   "outputs": [],
   "source": [
    "f_best = 0.16\n",
    "drugs = ['Palbociclib']\n",
    "    \n",
    "for i, drug in enumerate(drugs):\n",
    "    corr_list, avg_corr, waterfall_plot_go  = get_avg_cv_data_3class('ctg_go', dataset, zscore_method, drug, fraction=f_best)\n",
    "    print(drug, avg_corr, corr_list)\n",
    "\n",
    "waterfall_plot_go.savefig('../plots/waterfall_go_' + drug + '_2022-03-02.svg')"
   ]
  },
  {
   "cell_type": "code",
   "execution_count": null,
   "metadata": {},
   "outputs": [],
   "source": []
  }
 ],
 "metadata": {
  "kernelspec": {
   "display_name": "Python 3 (ipykernel)",
   "language": "python",
   "name": "python3"
  },
  "language_info": {
   "codemirror_mode": {
    "name": "ipython",
    "version": 3
   },
   "file_extension": ".py",
   "mimetype": "text/x-python",
   "name": "python",
   "nbconvert_exporter": "python",
   "pygments_lexer": "ipython3",
   "version": "3.7.10"
  }
 },
 "nbformat": 4,
 "nbformat_minor": 4
}
