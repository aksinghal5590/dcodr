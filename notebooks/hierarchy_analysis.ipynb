{
 "cells": [
  {
   "cell_type": "code",
   "execution_count": null,
   "id": "7ddfc9f7-137f-4420-bc4a-7bd3377f2210",
   "metadata": {},
   "outputs": [],
   "source": [
    "import os\n",
    "import math\n",
    "import pandas as pd\n",
    "import numpy as np\n",
    "from ddot import Ontology\n",
    "\n",
    "import matplotlib.pyplot as plt\n",
    "from scipy import stats\n",
    "import seaborn as sns"
   ]
  },
  {
   "cell_type": "code",
   "execution_count": null,
   "id": "9013f12f-8b4b-4098-933c-462ed83e9e23",
   "metadata": {},
   "outputs": [],
   "source": [
    "sns.set()\n",
    "sns.set_style(\"white\")\n",
    "sns.set_style(\"ticks\", {\"xtick.major.size\":8, \"ytick.major.size\":8})\n",
    "sns.axes_style(\"whitegrid\")\n",
    "sns.set_palette(\"muted\")\n",
    "sns.color_palette(\"muted\")\n",
    "\n",
    "plt.rcParams['svg.fonttype'] = 'none'\n",
    "\n",
    "SMALL_SIZE = 12\n",
    "MEDIUM_SIZE = 16\n",
    "BIGGER_SIZE = 22\n",
    "\n",
    "plt.rc('font', size=SMALL_SIZE)          # controls default text sizes\n",
    "plt.rc('axes', titlesize=SMALL_SIZE)     # fontsize of the axes title\n",
    "plt.rc('axes', labelsize=MEDIUM_SIZE)    # fontsize of the x and y labels\n",
    "plt.rc('xtick', labelsize=SMALL_SIZE)    # fontsize of the tick labels\n",
    "plt.rc('ytick', labelsize=SMALL_SIZE)    # fontsize of the tick labels\n",
    "plt.rc('legend', fontsize=SMALL_SIZE)    # legend fontsize\n",
    "plt.rc('figure', titlesize=BIGGER_SIZE)  # fontsize of the figure title"
   ]
  },
  {
   "cell_type": "code",
   "execution_count": null,
   "id": "051802b8-1445-4c7f-a62b-15f5cf54bf2f",
   "metadata": {},
   "outputs": [],
   "source": [
    "def load_hierarchy_network():\n",
    "    \n",
    "    network_name = '../data/NeST/NeST'\n",
    "    \n",
    "    nodes_df = pd.read_csv(network_name + '_node.csv')[['name', 'Genes']]\n",
    "    \n",
    "    edges_df = pd.read_csv(network_name + '_edge.sif', sep='\\t', header=None, names = ['S', 'M', 'T'])\n",
    "    \n",
    "    return nodes_df, edges_df"
   ]
  },
  {
   "cell_type": "code",
   "execution_count": null,
   "id": "6f6f5027-16cb-4b75-8e43-3400151736ac",
   "metadata": {},
   "outputs": [],
   "source": [
    "def convert_to_clixo_format(hierarchy_edges_df, hierarchy_nodes_df, min_size):\n",
    "    \n",
    "    ont_df = pd.DataFrame()\n",
    "    temp_file = '../data/temp_ont.txt'\n",
    "    \n",
    "    for _, row in hierarchy_edges_df.iterrows():\n",
    "        ont_df = ont_df.append({'Source' : row['S'], 'Target' : row['T'], 'Mapping' : 'default'}, ignore_index=True)\n",
    "\n",
    "    for _, row in hierarchy_nodes_df.iterrows():\n",
    "        genes = row['Genes'].split()\n",
    "        for gene in genes:\n",
    "            ont_df = ont_df.append({'Source' : row['name'], 'Target' : gene, 'Mapping' : 'gene'}, ignore_index=True)\n",
    "\n",
    "    ont_df = ont_df[['Source', 'Target', 'Mapping']]\n",
    "    ont_df.to_csv(temp_file, sep='\\t', header=False, index=False)\n",
    "    ont = Ontology.from_table(temp_file, clixo_format=True)\n",
    "    os.remove(temp_file)\n",
    "    \n",
    "    ont = ont.collapse_ontology(method='python', min_term_size=min_size)\n",
    "    ont = ont.propagate(direction='reverse')\n",
    "        \n",
    "    return ont"
   ]
  },
  {
   "cell_type": "code",
   "execution_count": null,
   "id": "88410e33-93bc-433e-9d77-cb34e6258acc",
   "metadata": {},
   "outputs": [],
   "source": [
    "def get_jaccard_index(g1, g2):\n",
    "    ji = len(g1.intersection(g2)) / len(g1.union(g2))\n",
    "    return ji"
   ]
  },
  {
   "cell_type": "code",
   "execution_count": null,
   "id": "9202a336-84d1-4dd1-a3f5-6cacad0c615e",
   "metadata": {},
   "outputs": [],
   "source": [
    "def get_system_overlap(ont):\n",
    "    \n",
    "    n = len(ont.parent_2_child.keys())\n",
    "    overlap_fraction = np.zeros((n,n))\n",
    "    \n",
    "    for i, t1 in enumerate(ont.terms):\n",
    "        for j, t2 in enumerate(ont.terms):\n",
    "            if t1 == t2 or t2 in ont.parent_2_child[t1] or t1 in ont.parent_2_child[t2]:\n",
    "                continue\n",
    "\n",
    "            g1 = set(ont.term_2_gene[t1])\n",
    "            g2 = set(ont.term_2_gene[t2])\n",
    "            for t in ont.parent_2_child[t1]:\n",
    "                g1.update(ont.term_2_gene[t])\n",
    "            for t in ont.parent_2_child[t2]:\n",
    "                g2.update(ont.term_2_gene[t])\n",
    "                \n",
    "            ji = get_jaccard_index(g1, g2)\n",
    "            overlap_fraction[i][j] = ji\n",
    "            if ji >= 0.5:\n",
    "                print('{} {} {:.2f}'.format(t1, t2, ji))\n",
    "    \n",
    "    return overlap_fraction"
   ]
  },
  {
   "cell_type": "code",
   "execution_count": null,
   "id": "93c1b4a9-c9ae-4418-8cd3-a7b020f49346",
   "metadata": {},
   "outputs": [],
   "source": [
    "n_type = 'ctg_av'\n",
    "\n",
    "ont_file = '../data/training_files_av/ontology_' + n_type + '.txt'\n",
    "ont = Ontology.from_table(ont_file, clixo_format=True)\n",
    "jaccard_table = get_system_overlap(ont)"
   ]
  },
  {
   "cell_type": "code",
   "execution_count": null,
   "id": "ccc4cec6-ccf4-4efe-b61b-1e932c9b7d55",
   "metadata": {},
   "outputs": [],
   "source": [
    "jaccard_table"
   ]
  },
  {
   "cell_type": "code",
   "execution_count": null,
   "id": "1cab52e2-cefa-408d-8a43-0b758555d4a9",
   "metadata": {},
   "outputs": [],
   "source": [
    "ax = sns.heatmap(jaccard_table)"
   ]
  },
  {
   "cell_type": "code",
   "execution_count": null,
   "id": "8cd69e44-9661-445f-9317-43787540d79d",
   "metadata": {},
   "outputs": [],
   "source": [
    "fig = plt.figure(figsize=(5, 5))\n",
    "ax = fig.add_subplot(111)\n",
    "plt.hist(jaccard_table.flatten())\n",
    "plt.show()"
   ]
  },
  {
   "cell_type": "code",
   "execution_count": null,
   "id": "8520b7a2-a4a9-4dad-8917-a889b8fe08ec",
   "metadata": {},
   "outputs": [],
   "source": [
    "h_nodes_df, h_edges_df = load_hierarchy_network()\n",
    "ont_nest = convert_to_clixo_format(h_edges_df, h_nodes_df, 4)"
   ]
  },
  {
   "cell_type": "code",
   "execution_count": null,
   "id": "e787a1be-f137-4045-aa7d-93f2c4d66f75",
   "metadata": {},
   "outputs": [],
   "source": [
    "ont_nest"
   ]
  },
  {
   "cell_type": "code",
   "execution_count": null,
   "id": "6bcdfd7a-8c88-47f4-b150-f5313bfd5911",
   "metadata": {},
   "outputs": [],
   "source": [
    "jaccard_table_nest = get_system_overlap(ont_nest)"
   ]
  },
  {
   "cell_type": "code",
   "execution_count": null,
   "id": "0d2f3c2b-a3a2-4ab7-aba0-505134bb6721",
   "metadata": {},
   "outputs": [],
   "source": [
    "*NEST:102 NEST:110 0.78   -   Common child\n",
    "NEST:105 NEST:77 0.70     -   Common child in NeST and unimportant here\n",
    "NEST:107 NEST:60 0.50     -   Common child and not important\n",
    "NEST:125 NEST:231 0.50    -   231 has 5/7 genes in 125 but both are unimportant\n",
    "NEST:137 NEST:145 0.62    -   Common child in NeST and unimportant here\n",
    "NEST:48  NEST:63 0.67     -   Multiple common children in NeST and unimportant here\n",
    "*NEST:65  NEST:91 0.50    -   Common child"
   ]
  }
 ],
 "metadata": {
  "kernelspec": {
   "display_name": "Python 3 (ipykernel)",
   "language": "python",
   "name": "python3"
  },
  "language_info": {
   "codemirror_mode": {
    "name": "ipython",
    "version": 3
   },
   "file_extension": ".py",
   "mimetype": "text/x-python",
   "name": "python",
   "nbconvert_exporter": "python",
   "pygments_lexer": "ipython3",
   "version": "3.7.10"
  }
 },
 "nbformat": 4,
 "nbformat_minor": 5
}
